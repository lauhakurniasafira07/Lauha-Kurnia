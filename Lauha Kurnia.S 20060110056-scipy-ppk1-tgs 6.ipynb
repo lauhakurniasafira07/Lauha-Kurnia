{
 "cells": [
  {
   "cell_type": "markdown",
   "id": "d2872855",
   "metadata": {},
   "source": [
    "#### Nama : Lauha Kurnia Safira\n",
    "#### NIM : 200601110056\n",
    "#### Kelas : Praktikum Pemograman Komputer_F"
   ]
  },
  {
   "cell_type": "markdown",
   "id": "503de737",
   "metadata": {},
   "source": [
    "#### 1. Sederhanakan persamaan berikut kemudian tentukan nilai dari a - c + b :\n",
    "#### a = (x + 9)^2 + 2x\n",
    "#### b = x^2 + 2x + 9\n",
    "#### c = (5x/2)^2 - 3x^3 + 51"
   ]
  },
  {
   "cell_type": "code",
   "execution_count": 10,
   "id": "8e2f1232",
   "metadata": {},
   "outputs": [
    {
     "data": {
      "text/latex": [
       "$\\displaystyle 2 x^{2} + 22 x + 90$"
      ],
      "text/plain": [
       "2*x**2 + 22*x + 90"
      ]
     },
     "execution_count": 10,
     "metadata": {},
     "output_type": "execute_result"
    }
   ],
   "source": [
    "import sympy\n",
    "from sympy import *\n",
    "a, b, c = symbols('a b c')\n",
    "\n",
    "a = (x + 9)**2 + 2*x\n",
    "b = x**2 + 2*x + 9\n",
    "simplify(a + b)"
   ]
  },
  {
   "cell_type": "code",
   "execution_count": 9,
   "id": "6520d8d3",
   "metadata": {},
   "outputs": [
    {
     "data": {
      "text/latex": [
       "$\\displaystyle - 3 x^{3} + \\frac{149 x}{8} + 123$"
      ],
      "text/plain": [
       "-3*x**3 + 149*x/8 + 123"
      ]
     },
     "execution_count": 9,
     "metadata": {},
     "output_type": "execute_result"
    }
   ],
   "source": [
    "c = 5*x/2**3 - 3*x**3 + 51\n",
    "simplify(a - b + c)"
   ]
  },
  {
   "cell_type": "markdown",
   "id": "980b33ae",
   "metadata": {},
   "source": [
    "#### 2. Tentukan nilai dari turunan y = cos(x/2).tan(x)^3"
   ]
  },
  {
   "cell_type": "code",
   "execution_count": 11,
   "id": "cad4f94a",
   "metadata": {},
   "outputs": [
    {
     "data": {
      "text/latex": [
       "$\\displaystyle \\left(3 \\tan^{2}{\\left(x \\right)} + 3\\right) \\cos{\\left(\\frac{x}{2} \\right)} \\tan^{2}{\\left(x \\right)} - \\frac{\\sin{\\left(\\frac{x}{2} \\right)} \\tan^{3}{\\left(x \\right)}}{2}$"
      ],
      "text/plain": [
       "(3*tan(x)**2 + 3)*cos(x/2)*tan(x)**2 - sin(x/2)*tan(x)**3/2"
      ]
     },
     "execution_count": 11,
     "metadata": {},
     "output_type": "execute_result"
    }
   ],
   "source": [
    "import sympy\n",
    "from sympy import *\n",
    "x = symbols('x')\n",
    "diff(cos(x/2)*tan(x)**3, x)"
   ]
  },
  {
   "cell_type": "markdown",
   "id": "5fc1b58d",
   "metadata": {},
   "source": [
    "#### 3. Berapa nilai dari limit ((ln(1+x)/x)(sin(x)^3)(1/3cos(x)) dengan x mendekati 5"
   ]
  },
  {
   "cell_type": "code",
   "execution_count": 3,
   "id": "c47cae34",
   "metadata": {},
   "outputs": [
    {
     "data": {
      "text/latex": [
       "$\\displaystyle \\frac{\\log{\\left(6 \\right)} \\sin^{3}{\\left(5 \\right)} \\cos{\\left(5 \\right)}}{15}$"
      ],
      "text/plain": [
       "log(6)*sin(5)**3*cos(5)/15"
      ]
     },
     "execution_count": 3,
     "metadata": {},
     "output_type": "execute_result"
    }
   ],
   "source": [
    "import sympy\n",
    "from sympy import *\n",
    "x = symbols('x')\n",
    "limit(ln(1+x)/x * sin(x)**3 * 1/3*cos(x), x, 5)"
   ]
  },
  {
   "cell_type": "markdown",
   "id": "ec6a31cc",
   "metadata": {},
   "source": [
    "#### 4. Tentukan hasil integral dari integral (5 cos x (2+sin x)^1/3)dx"
   ]
  },
  {
   "cell_type": "code",
   "execution_count": 4,
   "id": "eda50939",
   "metadata": {},
   "outputs": [
    {
     "data": {
      "text/latex": [
       "$\\displaystyle \\frac{5 \\sin^{2}{\\left(x \\right)}}{6} + \\frac{10 \\sin{\\left(x \\right)}}{3}$"
      ],
      "text/plain": [
       "5*sin(x)**2/6 + 10*sin(x)/3"
      ]
     },
     "execution_count": 4,
     "metadata": {},
     "output_type": "execute_result"
    }
   ],
   "source": [
    "import sympy\n",
    "from sympy import *\n",
    "x = symbols('x')\n",
    "integrate(5*cos(x)*(2+sin(x))**1/3, x)"
   ]
  },
  {
   "cell_type": "markdown",
   "id": "1c6dfe0c",
   "metadata": {},
   "source": [
    "#### 5. Jabarkan hasil dari  ((x + 75)/3)(x - 3/8)^2 + 312x - 155/61"
   ]
  },
  {
   "cell_type": "code",
   "execution_count": 5,
   "id": "e7b2010f",
   "metadata": {},
   "outputs": [
    {
     "data": {
      "text/latex": [
       "$\\displaystyle \\frac{x^{3}}{3} + 24.75 x^{2} + 293.296875 x + 0.974641393442623$"
      ],
      "text/plain": [
       "x**3/3 + 24.75*x**2 + 293.296875*x + 0.974641393442623"
      ]
     },
     "execution_count": 5,
     "metadata": {},
     "output_type": "execute_result"
    }
   ],
   "source": [
    "import sympy\n",
    "from sympy import *\n",
    "x = symbols('x')\n",
    "expand((x+75)/3*(x-3/8)**2 + 312*x - 155/61)"
   ]
  },
  {
   "cell_type": "code",
   "execution_count": null,
   "id": "9a9b2eee",
   "metadata": {},
   "outputs": [],
   "source": []
  }
 ],
 "metadata": {
  "kernelspec": {
   "display_name": "Python 3 (ipykernel)",
   "language": "python",
   "name": "python3"
  },
  "language_info": {
   "codemirror_mode": {
    "name": "ipython",
    "version": 3
   },
   "file_extension": ".py",
   "mimetype": "text/x-python",
   "name": "python",
   "nbconvert_exporter": "python",
   "pygments_lexer": "ipython3",
   "version": "3.9.7"
  }
 },
 "nbformat": 4,
 "nbformat_minor": 5
}
