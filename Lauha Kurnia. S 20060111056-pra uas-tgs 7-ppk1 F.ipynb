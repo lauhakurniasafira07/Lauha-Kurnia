{
 "cells": [
  {
   "cell_type": "markdown",
   "id": "1154ea02",
   "metadata": {},
   "source": [
    "### Nama : Lauha Kurnia Safira\n",
    "### NIM : 200601110056\n",
    "### Kelas : Praktikum Pemograman Komputer 1-F\n",
    "\n",
    "## LATIHAN PRA UAS"
   ]
  },
  {
   "cell_type": "markdown",
   "id": "84367d5f",
   "metadata": {},
   "source": [
    "### 1. Pola Karakter\n",
    "#### Deskripsi\n",
    "Pak Dono memiliki hobi menggambar pola unik. Ia memiliki sebuah kertas yang dibagi menjadi \n",
    "petak-petak sebanyak N baris dan M kolom. Baris-baris dinomori dari 1 sampai dengan N\n",
    "sedangkan kolom-kolom dinomori dari 1 sampai dengan M. Petak (a, b) menyatakan petak yang \n",
    "berada pada baris ke-a dan kolom ke-b. Kemudian ia menggambar simbol-simbol pada kertas \n",
    "tersebut dengan pola unik berikut.\n",
    "• Petak (a, b) diberi simbol '#', jika a dan b keduanya genap,\n",
    "• Petak (a, b) diberi simbol '*', jika a dan b keduanya ganjil,\n",
    "• Petak (a, b) diberi simbol '$', jika hanya salah satu di antara a dan b yang genap.\n",
    "Sayangnya, setelah menggambar pola unik, kertas gambar tersebut hilang.\n",
    "Bantulah Pak Dono untuk menggambar kembali pola unik yang ia buat.\n",
    "#### Format Masukan\n",
    "Sebuah baris berisi dua buah bilangan bulat N dan M dipisahkan oleh sebuah spasi.\n",
    "#### Format Keluaran\n",
    "N buah baris masing-masing berisi M buah karakter yang menyatakan simbol yang Pak Dono\n",
    "gambar."
   ]
  },
  {
   "cell_type": "code",
   "execution_count": 1,
   "id": "5e10e4d7",
   "metadata": {},
   "outputs": [
    {
     "name": "stdout",
     "output_type": "stream",
     "text": [
      "1 3\n",
      "*$*\n"
     ]
    }
   ],
   "source": [
    "N,M=map(int,input().split())\n",
    "\n",
    "for i in range(1,N+1):\n",
    "    for j in range(1,M+1):\n",
    "        if i % 2 == 1 or i == 1:\n",
    "            if j % 2 == 1:\n",
    "                print(\"*\",end=\"\")\n",
    "            else:\n",
    "                print(\"$\",end=\"\")\n",
    "        else:\n",
    "            if j % 2 == 1:\n",
    "                print(\"$\",end=\"\")\n",
    "            else:\n",
    "                print(\"#\",end=\"\")  \n",
    "    print()"
   ]
  },
  {
   "cell_type": "code",
   "execution_count": 2,
   "id": "6007bc34",
   "metadata": {},
   "outputs": [
    {
     "name": "stdout",
     "output_type": "stream",
     "text": [
      "4 5\n",
      "*$*$*\n",
      "$#$#$\n",
      "*$*$*\n",
      "$#$#$\n"
     ]
    }
   ],
   "source": [
    "N,M=map(int,input().split())\n",
    "\n",
    "for i in range(1,N+1):\n",
    "    for j in range(1,M+1):\n",
    "        if i % 2 == 1 or i == 1:\n",
    "            if j % 2 == 1:\n",
    "                print(\"*\",end=\"\")\n",
    "            else:\n",
    "                print(\"$\",end=\"\")\n",
    "        else:\n",
    "            if j % 2 == 1:\n",
    "                print(\"$\",end=\"\")\n",
    "            else:\n",
    "                print(\"#\",end=\"\")  \n",
    "    print()"
   ]
  },
  {
   "cell_type": "code",
   "execution_count": 3,
   "id": "df967ce4",
   "metadata": {},
   "outputs": [
    {
     "name": "stdout",
     "output_type": "stream",
     "text": [
      "7 2\n",
      "*$\n",
      "$#\n",
      "*$\n",
      "$#\n",
      "*$\n",
      "$#\n",
      "*$\n"
     ]
    }
   ],
   "source": [
    "N,M=map(int,input().split())\n",
    "\n",
    "for i in range(1,N+1):\n",
    "    for j in range(1,M+1):\n",
    "        if i % 2 == 1 or i == 1:\n",
    "            if j % 2 == 1:\n",
    "                print(\"*\",end=\"\")\n",
    "            else:\n",
    "                print(\"$\",end=\"\")\n",
    "        else:\n",
    "            if j % 2 == 1:\n",
    "                print(\"$\",end=\"\")\n",
    "            else:\n",
    "                print(\"#\",end=\"\")  \n",
    "    print()"
   ]
  },
  {
   "cell_type": "code",
   "execution_count": 14,
   "id": "506885c7",
   "metadata": {},
   "outputs": [
    {
     "name": "stdout",
     "output_type": "stream",
     "text": [
      "5 9\n",
      "*$*$*$*$*\n",
      "$#$#$#$#$\n",
      "*$*$*$*$*\n",
      "$#$#$#$#$\n",
      "*$*$*$*$*\n"
     ]
    }
   ],
   "source": [
    "N,M=map(int,input().split())\n",
    "\n",
    "for i in range(1,N+1):\n",
    "    for j in range(1,M+1):\n",
    "        if i % 2 == 1 or i == 1:\n",
    "            if j % 2 == 1:\n",
    "                print(\"*\",end=\"\")\n",
    "            else:\n",
    "                print(\"$\",end=\"\")\n",
    "        else:\n",
    "            if j % 2 == 1:\n",
    "                print(\"$\",end=\"\")\n",
    "            else:\n",
    "                print(\"#\",end=\"\")  \n",
    "    print()"
   ]
  },
  {
   "cell_type": "markdown",
   "id": "7ddf3467",
   "metadata": {},
   "source": [
    "### 2. Data Corona\n",
    "#### Deskripsi\n",
    "Pak Dono tinggal di Jakarta, dan semakin hari virus Corona di Jakarta semakin tidak terkendali. \n",
    "Pak Dono ingin melakukan pengamatan penyebaran virus Corona di kota Jakarta untuk melihat \n",
    "apakah virus Corona sudah menurun atau belum. Pak Dono sudah mendapatkan data dari pihak \n",
    "terkait selama 2 bulan di tahun 2020. Anda diminta membantu Pak Dono untuk menampilkan \n",
    "grafik penularan virus Corona.\n",
    "#### Masukan\n",
    "Data Penularan Virus Corona di DKI (terlampir di tautan berikut: https://elearning.uin\u0002malang.ac.id/mod/resource/view.php?id=51148)\n",
    "#### Keluaran\n",
    "Plot Grafik tanggal terhadap jumlah kasus menggunakan Pytho"
   ]
  },
  {
   "cell_type": "code",
   "execution_count": 21,
   "id": "fee122bf",
   "metadata": {},
   "outputs": [
    {
     "data": {
      "image/png": "[encoded data removed]",
      "text/plain": [
       "<Figure size 432x288 with 1 Axes>"
      ]
     },
     "metadata": {
      "needs_background": "light"
     },
     "output_type": "display_data"
    }
   ],
   "source": [
    "from matplotlib import pyplot as plt\n",
    "import numpy as np\n",
    "\n",
    "dt=pd.read_csv(\"Data Covid.txt\")\n",
    "ax=dt.plot()\n",
    "ax.set_title(\"Data Penularan Virus Coronan di DKI selama 2 bulan\")\n",
    "ax.set_xlabel(\"Tanggal\")\n",
    "ax.set_ylabel(\"Jumlah\")\n",
    "\n",
    "plt.show()"
   ]
  },
  {
   "cell_type": "code",
   "execution_count": null,
   "id": "4b751dfc",
   "metadata": {},
   "outputs": [],
   "source": []
  }
 ],
 "metadata": {
  "kernelspec": {
   "display_name": "Python 3 (ipykernel)",
   "language": "python",
   "name": "python3"
  },
  "language_info": {
   "codemirror_mode": {
    "name": "ipython",
    "version": 3
   },
   "file_extension": ".py",
   "mimetype": "text/x-python",
   "name": "python",
   "nbconvert_exporter": "python",
   "pygments_lexer": "ipython3",
   "version": "3.9.7"
  }
 },
 "nbformat": 4,
 "nbformat_minor": 5
}
