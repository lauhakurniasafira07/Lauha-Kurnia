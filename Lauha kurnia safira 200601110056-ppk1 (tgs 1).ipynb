{
 "cells": [
  {
   "cell_type": "markdown",
   "id": "f5984df8",
   "metadata": {},
   "source": [
    "# Bilangan Bulat"
   ]
  },
  {
   "cell_type": "markdown",
   "id": "f5c994cf",
   "metadata": {},
   "source": [
    "# Algoritma 2.1"
   ]
  },
  {
   "cell_type": "code",
   "execution_count": 39,
   "id": "354330d4",
   "metadata": {},
   "outputs": [
    {
     "data": {
      "text/plain": [
       "int"
      ]
     },
     "execution_count": 39,
     "metadata": {},
     "output_type": "execute_result"
    }
   ],
   "source": [
    "b=12345\n",
    "type(b)"
   ]
  },
  {
   "cell_type": "code",
   "execution_count": 3,
   "id": "d7d44431",
   "metadata": {},
   "outputs": [
    {
     "data": {
      "text/plain": [
       "str"
      ]
     },
     "execution_count": 3,
     "metadata": {},
     "output_type": "execute_result"
    }
   ],
   "source": [
    "c=str(b)\n",
    "c='12345'\n",
    "type(c)"
   ]
  },
  {
   "cell_type": "markdown",
   "id": "8b0326e9",
   "metadata": {},
   "source": [
    "# Algoritma 2.2"
   ]
  },
  {
   "cell_type": "code",
   "execution_count": 4,
   "id": "02096b5e",
   "metadata": {},
   "outputs": [
    {
     "data": {
      "text/plain": [
       "str"
      ]
     },
     "execution_count": 4,
     "metadata": {},
     "output_type": "execute_result"
    }
   ],
   "source": [
    "b='12345'\n",
    "type(b)"
   ]
  },
  {
   "cell_type": "code",
   "execution_count": 5,
   "id": "ac9f67a8",
   "metadata": {},
   "outputs": [
    {
     "data": {
      "text/plain": [
       "int"
      ]
     },
     "execution_count": 5,
     "metadata": {},
     "output_type": "execute_result"
    }
   ],
   "source": [
    "c=int(b)\n",
    "c=12345\n",
    "type(c)"
   ]
  },
  {
   "cell_type": "markdown",
   "id": "8e3f1dd4",
   "metadata": {},
   "source": [
    "# Algoritma 2.3"
   ]
  },
  {
   "cell_type": "code",
   "execution_count": 6,
   "id": "04532411",
   "metadata": {},
   "outputs": [
    {
     "data": {
      "text/plain": [
       "1"
      ]
     },
     "execution_count": 6,
     "metadata": {},
     "output_type": "execute_result"
    }
   ],
   "source": [
    "int(True)"
   ]
  },
  {
   "cell_type": "code",
   "execution_count": 7,
   "id": "40b9858c",
   "metadata": {},
   "outputs": [
    {
     "data": {
      "text/plain": [
       "0"
      ]
     },
     "execution_count": 7,
     "metadata": {},
     "output_type": "execute_result"
    }
   ],
   "source": [
    "int(False)"
   ]
  },
  {
   "cell_type": "code",
   "execution_count": 8,
   "id": "83f24541",
   "metadata": {},
   "outputs": [
    {
     "data": {
      "text/plain": [
       "bool"
      ]
     },
     "execution_count": 8,
     "metadata": {},
     "output_type": "execute_result"
    }
   ],
   "source": [
    "b=True\n",
    "type(b)"
   ]
  },
  {
   "cell_type": "code",
   "execution_count": 9,
   "id": "dd7d6135",
   "metadata": {},
   "outputs": [
    {
     "data": {
      "text/plain": [
       "1"
      ]
     },
     "execution_count": 9,
     "metadata": {},
     "output_type": "execute_result"
    }
   ],
   "source": [
    "int(b)"
   ]
  },
  {
   "cell_type": "markdown",
   "id": "544123e3",
   "metadata": {},
   "source": [
    "# Bilangan Riil\n",
    "\n"
   ]
  },
  {
   "cell_type": "markdown",
   "id": "e556d70c",
   "metadata": {},
   "source": [
    "# Algoritma 2.4"
   ]
  },
  {
   "cell_type": "code",
   "execution_count": 10,
   "id": "52548d8f",
   "metadata": {},
   "outputs": [
    {
     "data": {
      "text/plain": [
       "123.456"
      ]
     },
     "execution_count": 10,
     "metadata": {},
     "output_type": "execute_result"
    }
   ],
   "source": [
    "b=123.456\n",
    "b"
   ]
  },
  {
   "cell_type": "code",
   "execution_count": 11,
   "id": "f6356ad1",
   "metadata": {},
   "outputs": [
    {
     "data": {
      "text/plain": [
       "float"
      ]
     },
     "execution_count": 11,
     "metadata": {},
     "output_type": "execute_result"
    }
   ],
   "source": [
    "type(b)"
   ]
  },
  {
   "cell_type": "code",
   "execution_count": 12,
   "id": "7a971366",
   "metadata": {},
   "outputs": [
    {
     "data": {
      "text/plain": [
       "246.912"
      ]
     },
     "execution_count": 12,
     "metadata": {},
     "output_type": "execute_result"
    }
   ],
   "source": [
    "b*2"
   ]
  },
  {
   "cell_type": "markdown",
   "id": "aabab951",
   "metadata": {},
   "source": [
    "# Algoritma 2.5"
   ]
  },
  {
   "cell_type": "code",
   "execution_count": 14,
   "id": "9f5aeba0",
   "metadata": {},
   "outputs": [
    {
     "data": {
      "text/plain": [
       "0.00089"
      ]
     },
     "execution_count": 14,
     "metadata": {},
     "output_type": "execute_result"
    }
   ],
   "source": [
    "b=8.9e-4\n",
    "b"
   ]
  },
  {
   "cell_type": "markdown",
   "id": "f68eface",
   "metadata": {},
   "source": [
    "# Algoritma 2.6"
   ]
  },
  {
   "cell_type": "code",
   "execution_count": 15,
   "id": "1224a90d",
   "metadata": {},
   "outputs": [
    {
     "data": {
      "text/plain": [
       "float"
      ]
     },
     "execution_count": 15,
     "metadata": {},
     "output_type": "execute_result"
    }
   ],
   "source": [
    "b=123.456\n",
    "type(b)"
   ]
  },
  {
   "cell_type": "code",
   "execution_count": 16,
   "id": "d1a88cc0",
   "metadata": {},
   "outputs": [
    {
     "data": {
      "text/plain": [
       "'123.456'"
      ]
     },
     "execution_count": 16,
     "metadata": {},
     "output_type": "execute_result"
    }
   ],
   "source": [
    "c=str(b)\n",
    "c   "
   ]
  },
  {
   "cell_type": "code",
   "execution_count": 17,
   "id": "b789dff9",
   "metadata": {},
   "outputs": [
    {
     "data": {
      "text/plain": [
       "str"
      ]
     },
     "execution_count": 17,
     "metadata": {},
     "output_type": "execute_result"
    }
   ],
   "source": [
    "type(c)"
   ]
  },
  {
   "cell_type": "code",
   "execution_count": 18,
   "id": "4b045059",
   "metadata": {},
   "outputs": [
    {
     "data": {
      "text/plain": [
       "123.456"
      ]
     },
     "execution_count": 18,
     "metadata": {},
     "output_type": "execute_result"
    }
   ],
   "source": [
    "d=float(c)\n",
    "d"
   ]
  },
  {
   "cell_type": "code",
   "execution_count": 19,
   "id": "0cfe7ee0",
   "metadata": {},
   "outputs": [
    {
     "data": {
      "text/plain": [
       "float"
      ]
     },
     "execution_count": 19,
     "metadata": {},
     "output_type": "execute_result"
    }
   ],
   "source": [
    "type(d)"
   ]
  },
  {
   "cell_type": "markdown",
   "id": "796d028d",
   "metadata": {},
   "source": [
    "# Bilangan Kompleks"
   ]
  },
  {
   "cell_type": "markdown",
   "id": "8c562a0a",
   "metadata": {},
   "source": [
    "# Algoritma 2.7"
   ]
  },
  {
   "cell_type": "code",
   "execution_count": 20,
   "id": "e667a7fe",
   "metadata": {},
   "outputs": [
    {
     "data": {
      "text/plain": [
       "(-9+17j)"
      ]
     },
     "execution_count": 20,
     "metadata": {},
     "output_type": "execute_result"
    }
   ],
   "source": [
    "b=-9+17j\n",
    "b"
   ]
  },
  {
   "cell_type": "code",
   "execution_count": 21,
   "id": "3cb9d757",
   "metadata": {},
   "outputs": [
    {
     "data": {
      "text/plain": [
       "complex"
      ]
     },
     "execution_count": 21,
     "metadata": {},
     "output_type": "execute_result"
    }
   ],
   "source": [
    "type(b)"
   ]
  },
  {
   "cell_type": "code",
   "execution_count": 22,
   "id": "d686c44c",
   "metadata": {},
   "outputs": [
    {
     "data": {
      "text/plain": [
       "-9.0"
      ]
     },
     "execution_count": 22,
     "metadata": {},
     "output_type": "execute_result"
    }
   ],
   "source": [
    "b.real"
   ]
  },
  {
   "cell_type": "code",
   "execution_count": 23,
   "id": "36454804",
   "metadata": {},
   "outputs": [
    {
     "data": {
      "text/plain": [
       "17.0"
      ]
     },
     "execution_count": 23,
     "metadata": {},
     "output_type": "execute_result"
    }
   ],
   "source": [
    "b.imag"
   ]
  },
  {
   "cell_type": "markdown",
   "id": "9b9d04e0",
   "metadata": {},
   "source": [
    "# Tipe String"
   ]
  },
  {
   "cell_type": "markdown",
   "id": "e8903c8c",
   "metadata": {},
   "source": [
    "# Algoritma 2.8"
   ]
  },
  {
   "cell_type": "code",
   "execution_count": 24,
   "id": "b0e9f770",
   "metadata": {},
   "outputs": [
    {
     "data": {
      "text/plain": [
       "'PyQt'"
      ]
     },
     "execution_count": 24,
     "metadata": {},
     "output_type": "execute_result"
    }
   ],
   "source": [
    "s1='PyQt'\n",
    "s1"
   ]
  },
  {
   "cell_type": "code",
   "execution_count": 26,
   "id": "65ce5af9",
   "metadata": {},
   "outputs": [
    {
     "data": {
      "text/plain": [
       "'Phyton'"
      ]
     },
     "execution_count": 26,
     "metadata": {},
     "output_type": "execute_result"
    }
   ],
   "source": [
    "s2=\"Phyton\"\n",
    "s2"
   ]
  },
  {
   "cell_type": "code",
   "execution_count": 29,
   "id": "3227f3bf",
   "metadata": {},
   "outputs": [
    {
     "data": {
      "text/plain": [
       "'Pemograman GUI dengan Phyton dan PyQt'"
      ]
     },
     "execution_count": 29,
     "metadata": {},
     "output_type": "execute_result"
    }
   ],
   "source": [
    "s3='''Pemograman GUI dengan Phyton dan PyQt'''\n",
    "s3='\\nPemograman GUI\\ndengan Phyton dan PyQt\\n'\n",
    "s4=\"\"\"Pemograman GUI dengan Phyton dan PyQt\"\"\"\n",
    "s4"
   ]
  },
  {
   "cell_type": "code",
   "execution_count": 30,
   "id": "d354df7d",
   "metadata": {},
   "outputs": [
    {
     "data": {
      "text/plain": [
       "'python'"
      ]
     },
     "execution_count": 30,
     "metadata": {},
     "output_type": "execute_result"
    }
   ],
   "source": [
    "b='python'\n",
    "b"
   ]
  },
  {
   "cell_type": "code",
   "execution_count": 31,
   "id": "6f9c867a",
   "metadata": {},
   "outputs": [
    {
     "data": {
      "text/plain": [
       "'Python'"
      ]
     },
     "execution_count": 31,
     "metadata": {},
     "output_type": "execute_result"
    }
   ],
   "source": [
    "b=b.capitalize()\n",
    "b"
   ]
  },
  {
   "cell_type": "code",
   "execution_count": 32,
   "id": "c7cfba09",
   "metadata": {},
   "outputs": [
    {
     "data": {
      "text/plain": [
       "'PYTHON'"
      ]
     },
     "execution_count": 32,
     "metadata": {},
     "output_type": "execute_result"
    }
   ],
   "source": [
    "b=b.upper()\n",
    "b"
   ]
  },
  {
   "cell_type": "code",
   "execution_count": 33,
   "id": "cdaa551f",
   "metadata": {},
   "outputs": [
    {
     "data": {
      "text/plain": [
       "'python'"
      ]
     },
     "execution_count": 33,
     "metadata": {},
     "output_type": "execute_result"
    }
   ],
   "source": [
    "b=b.lower()\n",
    "b"
   ]
  },
  {
   "cell_type": "code",
   "execution_count": 34,
   "id": "681e22b4",
   "metadata": {},
   "outputs": [
    {
     "data": {
      "text/plain": [
       "False"
      ]
     },
     "execution_count": 34,
     "metadata": {},
     "output_type": "execute_result"
    }
   ],
   "source": [
    "b.isupper()"
   ]
  },
  {
   "cell_type": "code",
   "execution_count": 35,
   "id": "af7e12ff",
   "metadata": {},
   "outputs": [
    {
     "data": {
      "text/plain": [
       "True"
      ]
     },
     "execution_count": 35,
     "metadata": {},
     "output_type": "execute_result"
    }
   ],
   "source": [
    "b.islower()"
   ]
  },
  {
   "cell_type": "code",
   "execution_count": 36,
   "id": "ae65e6f8",
   "metadata": {},
   "outputs": [
    {
     "data": {
      "text/plain": [
       "'saya makan ayam'"
      ]
     },
     "execution_count": 36,
     "metadata": {},
     "output_type": "execute_result"
    }
   ],
   "source": [
    "s=''.join(['saya',' makan',' ayam'])\n",
    "s"
   ]
  },
  {
   "cell_type": "code",
   "execution_count": 37,
   "id": "42db7653",
   "metadata": {},
   "outputs": [
    {
     "data": {
      "text/plain": [
       "True"
      ]
     },
     "execution_count": 37,
     "metadata": {},
     "output_type": "execute_result"
    }
   ],
   "source": [
    "nim='200601110056'\n",
    "nim.isnumeric()"
   ]
  },
  {
   "cell_type": "code",
   "execution_count": 38,
   "id": "a4b2439a",
   "metadata": {},
   "outputs": [
    {
     "data": {
      "text/plain": [
       "False"
      ]
     },
     "execution_count": 38,
     "metadata": {},
     "output_type": "execute_result"
    }
   ],
   "source": [
    "nim='200601110o34'\n",
    "nim.isnumeric()"
   ]
  },
  {
   "cell_type": "code",
   "execution_count": null,
   "id": "c18f49b9",
   "metadata": {},
   "outputs": [],
   "source": []
  }
 ],
 "metadata": {
  "kernelspec": {
   "display_name": "Python 3 (ipykernel)",
   "language": "python",
   "name": "python3"
  },
  "language_info": {
   "codemirror_mode": {
    "name": "ipython",
    "version": 3
   },
   "file_extension": ".py",
   "mimetype": "text/x-python",
   "name": "python",
   "nbconvert_exporter": "python",
   "pygments_lexer": "ipython3",
   "version": "3.9.7"
  }
 },
 "nbformat": 4,
 "nbformat_minor": 5
}
