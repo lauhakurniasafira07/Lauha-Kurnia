{
 "cells": [
  {
   "cell_type": "markdown",
   "id": "973febda",
   "metadata": {},
   "source": [
    "# NOMOR 1"
   ]
  },
  {
   "cell_type": "code",
   "execution_count": 1,
   "id": "c67a2865",
   "metadata": {},
   "outputs": [
    {
     "name": "stdout",
     "output_type": "stream",
     "text": [
      "Bilangan a: 5\n",
      "Bilangan b: 7\n",
      "Mencetak Bilangan terbesar\n",
      "7\n"
     ]
    }
   ],
   "source": [
    "a=int(input(\"Bilangan a: \"))\n",
    "b=int(input(\"Bilangan b: \"))\n",
    "print(\"Mencetak Bilangan terbesar\")\n",
    "if a>b:\n",
    "    print(a)\n",
    "else:\n",
    "    print(b)"
   ]
  },
  {
   "cell_type": "markdown",
   "id": "16f23e7a",
   "metadata": {},
   "source": [
    "# NOMOR 2"
   ]
  },
  {
   "cell_type": "code",
   "execution_count": 9,
   "id": "478e0f66",
   "metadata": {},
   "outputs": [
    {
     "name": "stdout",
     "output_type": "stream",
     "text": [
      "Menghitung Nilai Akhir\n",
      "Nilai UAS: 80\n",
      "Nilai UTS: 78\n",
      "Nilai Kuis: 70\n",
      "Nilai Tugas: 86\n",
      "SELAMAT ANDA LULUS!\n"
     ]
    }
   ],
   "source": [
    "print(\"Menghitung Nilai Akhir\")\n",
    "A=int(input(\"Nilai UAS: \"))\n",
    "B=int(input(\"Nilai UTS: \"))\n",
    "C=int(input(\"Nilai Kuis: \"))\n",
    "D=int(input(\"Nilai Tugas: \"))\n",
    "Nilaiakhir=(A*40+B*30+C*10+D*20)/100\n",
    "if Nilaiakhir==\"65\"or Nilaiakhir>65:\n",
    "    print(\"SELAMAT ANDA LULUS!\")\n",
    "else:\n",
    "    print(\"ANDA REMIDI!\")"
   ]
  },
  {
   "cell_type": "markdown",
   "id": "31c4dcda",
   "metadata": {},
   "source": [
    "# NOMOR 3"
   ]
  },
  {
   "cell_type": "code",
   "execution_count": 13,
   "id": "b7efbbe2",
   "metadata": {},
   "outputs": [
    {
     "name": "stdout",
     "output_type": "stream",
     "text": [
      "Pilih Operasi.\n",
      "1.Jumlah\n",
      "2.Kurang\n",
      "3.Kali\n",
      "4.Bagi\n",
      "Masukkan pilihan(1/2/3/): 3\n",
      "Masukkan bilangan pertama: 12\n",
      "Masukkan bilangan kedua: 6\n",
      "12 * 6 = 72\n"
     ]
    }
   ],
   "source": [
    "def add(A,B):\n",
    "    return A+B\n",
    "def substract(A,B):\n",
    "    return A-B\n",
    "def multiply(A,B):\n",
    "    return A*B\n",
    "def devide(A,B):\n",
    "    return A/B\n",
    "print(\"Pilih Operasi.\")\n",
    "print(\"1.Jumlah\")\n",
    "print(\"2.Kurang\")\n",
    "print(\"3.Kali\")\n",
    "print(\"4.Bagi\")\n",
    "Operator=input(\"Masukkan pilihan(1/2/3/): \")\n",
    "A=int(input(\"Masukkan bilangan pertama: \"))\n",
    "B=int(input(\"Masukkan bilangan kedua: \"))\n",
    "if Operator=='1':\n",
    "    print(A,\"+\",B,\"=\",add(A,B))\n",
    "elif Operator=='2':\n",
    "    print(A,\"-\",B,\"=\",subtract(A,B))\n",
    "elif Operator=='3':\n",
    "    print(A,\"*\",B,\"=\",multiply(A,B))\n",
    "elif Operator=='4':\n",
    "    print(A,\"/\",B,\"=\",devide(A,B))\n",
    "else:\n",
    "    print(\"Input salah\")"
   ]
  },
  {
   "cell_type": "code",
   "execution_count": null,
   "id": "3ae68e52",
   "metadata": {},
   "outputs": [],
   "source": []
  }
 ],
 "metadata": {
  "kernelspec": {
   "display_name": "Python 3 (ipykernel)",
   "language": "python",
   "name": "python3"
  },
  "language_info": {
   "codemirror_mode": {
    "name": "ipython",
    "version": 3
   },
   "file_extension": ".py",
   "mimetype": "text/x-python",
   "name": "python",
   "nbconvert_exporter": "python",
   "pygments_lexer": "ipython3",
   "version": "3.9.7"
  }
 },
 "nbformat": 4,
 "nbformat_minor": 5
}
