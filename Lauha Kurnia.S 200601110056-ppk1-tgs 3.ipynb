{
 "cells": [
  {
   "cell_type": "markdown",
   "id": "f978f008",
   "metadata": {},
   "source": [
    "# BAB 4. FUNGSI\n",
    "### \n",
    "Fungsi adalah bagian atau blok program yang berisi satu tugas spesifik. Ketika dipanggil, fungsi ada yang menghasilkan atau mengembalikan nilai dan ada juga yang tidak. Nilai yang dihasilkan oleh fungsi disebut dengan istilah nilai balik (return value). Dalam beberapa bahasa pemrograman lain, fungsi dengan nilai balik disebut fungsi dan fungsi tanpa nilai balik disebut prosedur. fungsi hanyaperlu didefinisikan satu kali, tapi dapat digunakan atau dipanggil Berkali-kali. Dalam Phyton, fungsi didefinisikan menggunakan perintah def melalui bentuk umum berikut :\n",
    "\n"
   ]
  },
  {
   "cell_type": "code",
   "execution_count": null,
   "id": "e8cacb89",
   "metadata": {},
   "outputs": [],
   "source": [
    "def NamaFungsi(parameter1,parameter2,...):\n",
    "    #badan fungsi"
   ]
  },
  {
   "cell_type": "markdown",
   "id": "aee387e9",
   "metadata": {},
   "source": [
    "### \n",
    "Daftar parameter dari suatu fungsi bersifat opsional, tapi sebagian besar fungsi pada umumnya memiliki satu parameter atau lebih. Terdapat empat jenis fungsi yang dapat dibuat di dalam Phyton, yaitu : fungsi global, fungsi lokal, dan fungsi lambda."
   ]
  },
  {
   "cell_type": "markdown",
   "id": "1edacf87",
   "metadata": {},
   "source": [
    "## 4.1 Fungsi Global\n",
    "### \n",
    "Fungsi global adalah fungsi yang didefinisikan di dalam suatu modul dan dapat dipanggil oleh fungsi lain, baik yang berada di dalam modul yang sama maupun modul lain."
   ]
  },
  {
   "cell_type": "code",
   "execution_count": 5,
   "id": "446dcd88",
   "metadata": {},
   "outputs": [
    {
     "data": {
      "text/plain": [
       "50"
      ]
     },
     "execution_count": 5,
     "metadata": {},
     "output_type": "execute_result"
    }
   ],
   "source": [
    "def kali(a,b):\n",
    "    c=a*b\n",
    "    return c # mengembalikan nilai ke baris pemanggil\n",
    "def tulis(s):\n",
    "    print(s)\n",
    "z=kali(10,5)\n",
    "z"
   ]
  },
  {
   "cell_type": "code",
   "execution_count": 6,
   "id": "51cd56d5",
   "metadata": {},
   "outputs": [
    {
     "name": "stdout",
     "output_type": "stream",
     "text": [
      "Pemograman Komputer 1 dengan Python\n"
     ]
    }
   ],
   "source": [
    "tulis('Pemograman Komputer 1 dengan Python')"
   ]
  },
  {
   "cell_type": "code",
   "execution_count": 7,
   "id": "974821d0",
   "metadata": {},
   "outputs": [
    {
     "name": "stdout",
     "output_type": "stream",
     "text": [
      "50\n"
     ]
    }
   ],
   "source": [
    "tulis(z)"
   ]
  },
  {
   "cell_type": "markdown",
   "id": "b213e018",
   "metadata": {},
   "source": [
    "## 4.2 Fungsi Lokal\n",
    "### \n",
    "Fungsi lokal adalah fungsi yang didefinisikan di dalam fungsi lain. fungsi lokal sering disebut fungsi bersarang (nested function). berbeda dengan fungsi global, fungsi lokal hanya akan dikenal oleh fungsi luar tempat fungsi lokal tersebut didefinisikan."
   ]
  },
  {
   "cell_type": "code",
   "execution_count": 52,
   "id": "65077544",
   "metadata": {},
   "outputs": [
    {
     "name": "stdout",
     "output_type": "stream",
     "text": [
      "Persentase: 33.333333\t33.333333\t33.333333\n"
     ]
    }
   ],
   "source": [
    "def persentase(a,b,c): \n",
    "    def hitungPersen(x): \n",
    "        total=a+b+c \n",
    "        return(x*100.0)/total \n",
    "    print(\"Persentase: %f\\t%f\\t%f\" % (hitungPersen(a),hitungPersen(b),hitungPersen(c)))\n",
    "persentase(50,50,50) "
   ]
  },
  {
   "cell_type": "code",
   "execution_count": 51,
   "id": "a792da14",
   "metadata": {},
   "outputs": [],
   "source": [
    " persentase(50,50,50) "
   ]
  },
  {
   "cell_type": "code",
   "execution_count": 53,
   "id": "8c00b172",
   "metadata": {},
   "outputs": [
    {
     "name": "stdout",
     "output_type": "stream",
     "text": [
      "Persentase: 20.000000\t60.000000\t20.000000\n"
     ]
    }
   ],
   "source": [
    "persentase(30,90,30)"
   ]
  },
  {
   "cell_type": "code",
   "execution_count": null,
   "id": "e9108d35",
   "metadata": {},
   "outputs": [],
   "source": []
  },
  {
   "cell_type": "markdown",
   "id": "62ad1255",
   "metadata": {},
   "source": [
    "## 4.3 Fungsi Lambda\n",
    "### \n",
    "Fungsi lambda adalah suatu ekspresi untuk menangani tugas-tugas pemrograman yang sederhana. Fungsi jenis ini sering dikenal dengan fungsi tanpa nama (anonymous function) dan dibuat menggunakan kata kunci lambda. Bentuk umum penggunaan kata kunci lambda adalah sebagai berikut :"
   ]
  },
  {
   "cell_type": "code",
   "execution_count": null,
   "id": "fd1a660b",
   "metadata": {},
   "outputs": [],
   "source": [
    "lambda DaftarParameter: ekspresi"
   ]
  },
  {
   "cell_type": "markdown",
   "id": "e7ac5059",
   "metadata": {},
   "source": [
    "### \n",
    "Berikut ini contoh kode yang menunjukkan penggunaan kata kunci lamda."
   ]
  },
  {
   "cell_type": "code",
   "execution_count": 2,
   "id": "57bf2aba",
   "metadata": {},
   "outputs": [
    {
     "data": {
      "text/plain": [
       "20"
      ]
     },
     "execution_count": 2,
     "metadata": {},
     "output_type": "execute_result"
    }
   ],
   "source": [
    "maks=lambda a,b:a if a>b else b\n",
    "maks(20,10)"
   ]
  },
  {
   "cell_type": "code",
   "execution_count": 3,
   "id": "0f10ea30",
   "metadata": {},
   "outputs": [
    {
     "data": {
      "text/plain": [
       "200"
      ]
     },
     "execution_count": 3,
     "metadata": {},
     "output_type": "execute_result"
    }
   ],
   "source": [
    "maks(100,200)"
   ]
  },
  {
   "cell_type": "markdown",
   "id": "ad8a282a",
   "metadata": {},
   "source": [
    "### \n",
    "Jika ditulis dalam bentuk fungsi normal, kode di atas dapat diubah menjadi seperti berikut:\n"
   ]
  },
  {
   "cell_type": "code",
   "execution_count": 18,
   "id": "a87c8132",
   "metadata": {},
   "outputs": [
    {
     "data": {
      "text/plain": [
       "20"
      ]
     },
     "execution_count": 18,
     "metadata": {},
     "output_type": "execute_result"
    }
   ],
   "source": [
    "def maks(a,b):\n",
    "    if a>b:\n",
    "         return a\n",
    "    else:\n",
    "         return b\n",
    "maks(20,10)"
   ]
  },
  {
   "cell_type": "code",
   "execution_count": 11,
   "id": "2c200d2a",
   "metadata": {},
   "outputs": [
    {
     "data": {
      "text/plain": [
       "200"
      ]
     },
     "execution_count": 11,
     "metadata": {},
     "output_type": "execute_result"
    }
   ],
   "source": [
    "maks(100,200)"
   ]
  },
  {
   "cell_type": "markdown",
   "id": "ab6ae6a4",
   "metadata": {},
   "source": [
    "### \n",
    "Terdapat beberapa hal yang tidak dapat dilakukan pada fungsi lambda, sehingga kita perlu menggunakan fungsi normal. jika anda ingin menyertakan struktur pengulangan for maupun while, perintah\u0002perintah non-ekspresi, dan perintah yang berjumlah lebih dari satu, maka anda tidak dapat menggunakan fungsi lambda. Fungsi lambda biasanya diperankan sebagai parameter dari suatu fungsi lain. Fungsi yang berperan sebagai parameter sering disebut dengan fungsi callback.\n",
    "## 4.4 Parameter Default\n",
    "### \n",
    "Suatu parameter fungsi dapat memiliki nilai default pada saat fungsi tersebut didefinisikan. Proses pengisisan nilai ke dalam parameter dilakukan menggunakan operator penugasan (=). Melalui cara ini, kita dapat memanggil fungsi tanpa menyertakan nilai untuk parameter bersangkutan. Parameter seperti ini sering disebut parameter default atau parameter opsional. Parameter default harus ditempatkan pada urutan paling akhir dari daftar parameter lain.\n"
   ]
  },
  {
   "cell_type": "code",
   "execution_count": 17,
   "id": "8f379444",
   "metadata": {
    "scrolled": true
   },
   "outputs": [
    {
     "name": "stdout",
     "output_type": "stream",
     "text": [
      "Python\n"
     ]
    }
   ],
   "source": [
    "def tulis(s,gantibaris=True):\n",
    "    if not gantibaris:\n",
    "        print(s,end='')\n",
    "    else:\n",
    "        print(s)\n",
    "tulis('Python')"
   ]
  },
  {
   "cell_type": "code",
   "execution_count": 23,
   "id": "4adde99f",
   "metadata": {},
   "outputs": [
    {
     "name": "stdout",
     "output_type": "stream",
     "text": [
      "Python dan Ruby\n"
     ]
    }
   ],
   "source": [
    "tulis('Python',False);tulis(' dan Ruby')"
   ]
  },
  {
   "cell_type": "code",
   "execution_count": 24,
   "id": "4a4f91b4",
   "metadata": {},
   "outputs": [
    {
     "name": "stdout",
     "output_type": "stream",
     "text": [
      "Python\n",
      "Ruby\n"
     ]
    }
   ],
   "source": [
    "tulis('Python');tulis('Ruby')"
   ]
  },
  {
   "cell_type": "markdown",
   "id": "b90477f6",
   "metadata": {},
   "source": [
    "### \n",
    "Parameter gantibaris pada contoh kode di atas merupakan parameter default. Nilai default untuk parameter tersebut adalah True. Ini berarti bahwa jika fungsi tulis( ) dipanggil tanpa menyertakan parameterkedua, maka parameter ganti baris akan diisi dengan nilai True."
   ]
  },
  {
   "cell_type": "code",
   "execution_count": null,
   "id": "0a2483c4",
   "metadata": {},
   "outputs": [],
   "source": []
  },
  {
   "cell_type": "markdown",
   "id": "f08fb4cb",
   "metadata": {},
   "source": [
    "# BAB 5.CONTROL FLOW\n",
    "## 5.1 Ekspresi Boolean"
   ]
  },
  {
   "cell_type": "markdown",
   "id": "4942b1a2",
   "metadata": {},
   "source": [
    "### \n",
    "Sebuah ekspresi Boolean adalah ekspresi yang bernilai true atau false. Ekspresi ini digunakan untuk membandingkan dua nilai atau variabel (operand). Contoh berikut merupakan ekspresi boolean menggunakan operator ‘==’ (sama dengan / equality) untuk membandingkan 2 buah nilai:"
   ]
  },
  {
   "cell_type": "code",
   "execution_count": 1,
   "id": "e01361ea",
   "metadata": {},
   "outputs": [
    {
     "data": {
      "text/plain": [
       "True"
      ]
     },
     "execution_count": 1,
     "metadata": {},
     "output_type": "execute_result"
    }
   ],
   "source": [
    "5==5"
   ]
  },
  {
   "cell_type": "code",
   "execution_count": 2,
   "id": "a2e6652c",
   "metadata": {},
   "outputs": [
    {
     "data": {
      "text/plain": [
       "False"
      ]
     },
     "execution_count": 2,
     "metadata": {},
     "output_type": "execute_result"
    }
   ],
   "source": [
    "5==6"
   ]
  },
  {
   "cell_type": "markdown",
   "id": "824db029",
   "metadata": {},
   "source": [
    "### \n",
    "True dan False merupakan tipe data khusus, yaitu boolean, bukan tipe data string. Selain operator ‘==’, ada beberapa operator lain yang bisa digunakan untuk membuat ekspresi boolean, operator-operator ini disebut operator relasi. Operator relasi ditunjukkan pada Tabel 5.1.Operator Relasi.\n"
   ]
  },
  {
   "cell_type": "markdown",
   "id": "825e0d66",
   "metadata": {},
   "source": [
    "### Operator Relasi\n",
    "x == y bernilai True jika x sama dengan y\\\n",
    "x != y bernilai True jika tidak sama dengan y\\\n",
    "x > y bernilai True jika x lebih dari y\\\n",
    "x < y bernilai True jika x kurang dari y\\\n",
    "x >= y bernilai True jika x lebih dari atau sama dengan y\\\n",
    "x <= y bernilai True jika x kurang dari atau sama dengan y\\"
   ]
  },
  {
   "cell_type": "markdown",
   "id": "84026a88",
   "metadata": {},
   "source": [
    "## 5.2 Operators"
   ]
  },
  {
   "cell_type": "markdown",
   "id": "6048b678",
   "metadata": {},
   "source": [
    "### \n",
    "Operator logika merupakan jenis operator yang akan membandingkan logika hasil dari operator relasi. Terdapat macam operator yang termasuk dalam operator logika yaitu: and, or, dan not. Deskripsi dari masing-masing operator tersebut dijelaskan pada Tabel 5.2. Operator Logika. Contoh operator and adalah x > 0 and x < 10 akan bernilai True jika dan hanya jika x lebih besar dari 0 dan kurang dari 10. Ekspresi n%2 == 0 or n%3 == 0 akan bernilai True jika bilangan n habis dibagi 2 atau 3. Ekspresi not (x > y) bernilai True jika x > y bernilai False, yaitu jika x kurang dari atau sama dengan y."
   ]
  },
  {
   "cell_type": "markdown",
   "id": "5e8d56ef",
   "metadata": {},
   "source": [
    "## 5.3 Conditional execution"
   ]
  },
  {
   "cell_type": "markdown",
   "id": "0eeec156",
   "metadata": {},
   "source": [
    "### \n",
    "Pada saat membuat sebuah program, kadangkala kita membutuhkan pemilihan pernyataan mana yang akan dijalankan oleh komputer. Kemampuan pemilihan perintah inilah yang disebut conditional statement. Contoh sederhana dari pernyataan conditional ini adalah sebagai berikut:\n"
   ]
  },
  {
   "cell_type": "code",
   "execution_count": null,
   "id": "ffe1e8f3",
   "metadata": {},
   "outputs": [],
   "source": [
    "if x > 0:\n",
    "    print ('x is positive')"
   ]
  },
  {
   "cell_type": "markdown",
   "id": "cf39197e",
   "metadata": {},
   "source": [
    "### \n",
    "Pada contoh di atas, pernyataan print ’x is positive’ akan dijalankan jika x > 0, sedangkan jika sebaliknya maka pernyataan tersebut tidak dijalankan. Ada beberapa conditional statement yang akan dibahan pada bab ini."
   ]
  },
  {
   "cell_type": "markdown",
   "id": "09a04ce6",
   "metadata": {},
   "source": [
    "## 5.3.1 5.3.1 Conditional if"
   ]
  },
  {
   "cell_type": "markdown",
   "id": "793cb1a4",
   "metadata": {},
   "source": [
    "### \n",
    "Conditional if digunakan untuk memilih apakah sebuah pernyataan akan dijalankan atau tidak sesuai kondisi yang diberikan. Alur pemilihan if ditunjukkan pada Gambar 5.1."
   ]
  },
  {
   "cell_type": "markdown",
   "id": "c4db09a0",
   "metadata": {},
   "source": [
    "### \n",
    "Sintaks pemilihan if adalah sebagai berikut:\n"
   ]
  },
  {
   "cell_type": "code",
   "execution_count": null,
   "id": "926eb45a",
   "metadata": {},
   "outputs": [],
   "source": [
    "if kondisi :\n",
    "    statement"
   ]
  },
  {
   "cell_type": "markdown",
   "id": "911d06c1",
   "metadata": {},
   "source": [
    "### \n",
    "Kondisi pada sintaks tersebut dapat berisi ekspresi relasi dan atau ekspresi logika."
   ]
  },
  {
   "cell_type": "markdown",
   "id": "881f3495",
   "metadata": {},
   "source": [
    "### \n",
    "Percobaan Conditional if"
   ]
  },
  {
   "cell_type": "markdown",
   "id": "3f8981e8",
   "metadata": {},
   "source": [
    "### \n",
    "1. Buka python editor dan buat script baru dengan nama \"Percobaan1.py\".\n",
    "2. Tuliskan kode untuk mengambil masukan dari user.\n",
    "\n"
   ]
  },
  {
   "cell_type": "code",
   "execution_count": null,
   "id": "65d573f5",
   "metadata": {},
   "outputs": [],
   "source": [
    "nilai = input(\"Masukkan nilai Anda: \")"
   ]
  },
  {
   "cell_type": "markdown",
   "id": "502c1556",
   "metadata": {},
   "source": [
    "### \n",
    "3. Tuliskan kode conditional if untuk melakukan pengecekan nilai. Jangan lupa konversikan variabel nilai menjadi int.\n"
   ]
  },
  {
   "cell_type": "code",
   "execution_count": null,
   "id": "1aa9ff45",
   "metadata": {},
   "outputs": [],
   "source": [
    "if int(nilai) >= 70:\n",
    "    print(\"Anda lulus ujian! SELAMAT\")"
   ]
  },
  {
   "cell_type": "markdown",
   "id": "a0fb1238",
   "metadata": {},
   "source": [
    "### \n",
    "4. Jalankan program tersebut dan perhatikan hasilnya."
   ]
  },
  {
   "cell_type": "markdown",
   "id": "09819fa8",
   "metadata": {},
   "source": [
    "## 5.3.2 Conditional if-else\n"
   ]
  },
  {
   "cell_type": "markdown",
   "id": "7da4b860",
   "metadata": {},
   "source": [
    "### \n",
    "Conditional if-else digunakan untuk memilih pernyataan mana yang akan dijalankan dari 2 pernyataan sesuai kondisi yang diberikan. Alur pemilihan if-else ditunjukkan pada Gambar 5.2."
   ]
  },
  {
   "cell_type": "markdown",
   "id": "2182e722",
   "metadata": {},
   "source": [
    "### \n",
    "Sintaks pemilihan if-else adalah sebagai berikut:"
   ]
  },
  {
   "cell_type": "code",
   "execution_count": null,
   "id": "9e6e0e66",
   "metadata": {},
   "outputs": [],
   "source": [
    "if kondisi:\n",
    "    statement1\n",
    "else:\n",
    "    statement2"
   ]
  },
  {
   "cell_type": "markdown",
   "id": "72dfa262",
   "metadata": {},
   "source": [
    "### \n",
    "Pernyataan pada blok if akan dijalankan jika kondisi bernilai True, tapi jika bernilai False maka pernyataan pada blok else akan dijalankan."
   ]
  },
  {
   "cell_type": "markdown",
   "id": "57136ffb",
   "metadata": {},
   "source": [
    "### \n",
    "Percobaan Conditional if-else\n",
    "1. Buka script Percobaan1.py yang sudah Anda buat.\n",
    "2. Tambahkan kode conditional if-else untuk melakukan pengecekan nilai apakah lulus atau tidak.\n"
   ]
  },
  {
   "cell_type": "code",
   "execution_count": null,
   "id": "df308d2a",
   "metadata": {},
   "outputs": [],
   "source": [
    "if int(nilai) >= 70:\n",
    " print(\"Anda lulus ujian! SELAMAT!\")\n",
    "else:\n",
    " print(\"Anda belum lulus ujian!\")\n"
   ]
  },
  {
   "cell_type": "markdown",
   "id": "fcd91fbf",
   "metadata": {},
   "source": [
    "### \n",
    "3. Jalankan program tersebut dan perhatikan hasilnya."
   ]
  },
  {
   "cell_type": "markdown",
   "id": "803cd52e",
   "metadata": {},
   "source": [
    "## 5.3.3 Conditional if-elif-else"
   ]
  },
  {
   "cell_type": "markdown",
   "id": "d44977c8",
   "metadata": {},
   "source": [
    "### \n",
    "Conditional if-elif-else digunakan untuk memilih pernyataan mana yang akan dijalankan dengan beberapa kondisi pengecekan. Alur pemilihan if-elif-else ditunjukkan pada Gambar 5.3.\n",
    "Sintaks pemilihan if-elif-else adalah sebagai berikut:"
   ]
  },
  {
   "cell_type": "code",
   "execution_count": null,
   "id": "f67aa9f4",
   "metadata": {},
   "outputs": [],
   "source": [
    "if kondisi1:\n",
    "    statement1\n",
    "elif kondisi2:\n",
    "    statement2\n",
    ".\n",
    ".\n",
    ".\n",
    "else:\n",
    "    statementX"
   ]
  },
  {
   "cell_type": "markdown",
   "id": "02485bce",
   "metadata": {},
   "source": [
    "### \n",
    "Pernyataan pada blok if akan dijalankan jika kondisi1 bernilai True, tapi jika bernilai False maka akan dicek kondisi2 pada elif dan seterusnya sampai dengan else.\n"
   ]
  },
  {
   "cell_type": "markdown",
   "id": "9259e458",
   "metadata": {},
   "source": [
    "### \n",
    "Percobaan Conditional if-elif-else\n",
    "1. Buka script Percobaan1.py yang sudah Anda buat pada Percobaan 1 dan 2.\n",
    "2. Tambahkan kode conditional if-elif-else untuk melakukan pengecekan nilai apakah valid dan lulus atau tidak.\n"
   ]
  },
  {
   "cell_type": "code",
   "execution_count": null,
   "id": "0435ab4c",
   "metadata": {},
   "outputs": [],
   "source": [
    "if int(nilai) < 0 or int(nilai) > 100:\n",
    "    print(\"Nilai Anda TIDAK valid\")\n",
    "elif int(nilai) >= 70:\n",
    "    print(\"Anda lulus ujian! SELAMAT!\")\n",
    "else:\n",
    "    print(\"Anda belum lulus ujian!\")"
   ]
  },
  {
   "cell_type": "markdown",
   "id": "a34b10c8",
   "metadata": {},
   "source": [
    "### \n",
    "3. Jalankan program tersebut dan perhatikan hasilnya."
   ]
  },
  {
   "cell_type": "markdown",
   "id": "6c53b0bb",
   "metadata": {},
   "source": [
    "## 5.4 Perulangan (Looping)\n"
   ]
  },
  {
   "cell_type": "markdown",
   "id": "54840815",
   "metadata": {},
   "source": [
    " ### \n",
    " Loop adalah suatu blok atau kumpulan instruksi yang dilaksanakan secara berulang-ulang. Perulangan yang disebut juga repetition akan membuat efisiensi proses diban-dingkan jika dioperasikan secara manual. Diagram pada Gambar 5.5 mengilustrasikan sebuah pernyataan loop.\n"
   ]
  },
  {
   "cell_type": "markdown",
   "id": "36be64bd",
   "metadata": {},
   "source": [
    "### \n",
    "Ada dua jenis perulangan dalam Python, yaitu while loop dan for loop. "
   ]
  },
  {
   "cell_type": "markdown",
   "id": "f108645b",
   "metadata": {},
   "source": [
    "## 5.4.1 While Loop\n"
   ]
  },
  {
   "cell_type": "markdown",
   "id": "593c3e2c",
   "metadata": {},
   "source": [
    "### \n",
    "Perulangan dengan while akan mengulang sebuah pernyataan atau kumpulan pernyataan jika kondisi yang diberikan bernilai True. Kondisi akan dicek terlebih dahulu sebelum menjalankan body loop. Sintaks perulangan while adalah sebagai berikut:"
   ]
  },
  {
   "cell_type": "code",
   "execution_count": null,
   "id": "8f2b72ab",
   "metadata": {},
   "outputs": [],
   "source": [
    "while kondisi:\n",
    "    statement"
   ]
  },
  {
   "cell_type": "markdown",
   "id": "6a0f9561",
   "metadata": {},
   "source": [
    "### \n",
    "Contoh penggunaannya adalah sebagai berikut:\n"
   ]
  },
  {
   "cell_type": "code",
   "execution_count": null,
   "id": "6af4b61d",
   "metadata": {},
   "outputs": [],
   "source": [
    "count = 0\n",
    "while count < 5:\n",
    "    print(count)\n",
    "    count += 1 #menampilkan 0 1 2 3 4"
   ]
  },
  {
   "cell_type": "markdown",
   "id": "2a473d72",
   "metadata": {},
   "source": [
    "### \n",
    "Percobaan While Loop\n",
    "Program untuk menghitung nilai faktorial.\n",
    "1. Buka python editor dan buat script baru dengan nama \"Faktorial.py\".\n",
    "2. Tuliskan fungsi faktorial yang berisi perulangan dengan while untuk menghitung nilai faktorial.\n"
   ]
  },
  {
   "cell_type": "code",
   "execution_count": null,
   "id": "e704d0a9",
   "metadata": {},
   "outputs": [],
   "source": [
    "def faktorial(n):\n",
    "fac = 1\n",
    "i = 1\n",
    "while i <= n:\n",
    "fac = fac * i\n",
    "i += 1\n",
    "return fac"
   ]
  },
  {
   "cell_type": "markdown",
   "id": "8fe7f9f1",
   "metadata": {},
   "source": [
    "### \n",
    "3. Tuliskan kode untuk mengambil masukan dari user. Jangan lupa konversikan variabel n menjadi int."
   ]
  },
  {
   "cell_type": "code",
   "execution_count": null,
   "id": "f9502087",
   "metadata": {},
   "outputs": [],
   "source": [
    "angka = int(input(\"Masukkan nilai yang akan dihitung: \"))"
   ]
  },
  {
   "cell_type": "markdown",
   "id": "945d0619",
   "metadata": {},
   "source": [
    "### \n",
    "4. Jalankan program tersebut dan perhatikan hasilnya."
   ]
  },
  {
   "cell_type": "code",
   "execution_count": null,
   "id": "96c2b444",
   "metadata": {},
   "outputs": [],
   "source": [
    "faktorial(angka)"
   ]
  },
  {
   "cell_type": "markdown",
   "id": "07a60529",
   "metadata": {},
   "source": [
    "### \n",
    "Percobaan Looping dengan Break\n",
    "1. Buka python editor dan buat script baru dengan nama \"LoopBreak.py\".\n",
    "2. Tuliskan kode program berikut:\n"
   ]
  },
  {
   "cell_type": "code",
   "execution_count": null,
   "id": "9d01c0a3",
   "metadata": {},
   "outputs": [],
   "source": [
    "b = 0\n",
    "while True:\n",
    "    angka = int(input(\"Masukkan Angka: \"))\n",
    "    b += angka\n",
    "    if b > 50:\n",
    "    break print(\"Angka berhenti pada jumlah: \" + b)"
   ]
  },
  {
   "cell_type": "markdown",
   "id": "55747578",
   "metadata": {},
   "source": [
    "### \n",
    "3. Jalankan program tersebut dan perhatikan hasilnya."
   ]
  },
  {
   "cell_type": "markdown",
   "id": "f4baa7fc",
   "metadata": {},
   "source": [
    "## 5.4.2 For Loop\n",
    "Perulangan dengan loop melakukan perulangan setiap elemen pada sebuah kumpulan data (array, list, dictionary, range). Sintaks perulangan for adalah sebagai berikut:\n"
   ]
  },
  {
   "cell_type": "code",
   "execution_count": null,
   "id": "23352675",
   "metadata": {},
   "outputs": [],
   "source": [
    "for element in sequence:\n",
    "    statement"
   ]
  },
  {
   "cell_type": "markdown",
   "id": "99af9734",
   "metadata": {},
   "source": [
    "### \n",
    "Contoh penggunaannya adalah sebagai berikut:"
   ]
  },
  {
   "cell_type": "code",
   "execution_count": null,
   "id": "59090d14",
   "metadata": {},
   "outputs": [],
   "source": [
    "primes = [2,3,5,7]\n",
    "for prime in primes:\n",
    "    print(prime) #menampilkan 2 3 5 7"
   ]
  },
  {
   "cell_type": "markdown",
   "id": "4f764e00",
   "metadata": {},
   "source": [
    "### \n",
    "Percobaan For Loop\n",
    "Program perulangan dengan for untuk menghitung jumlah total.\n",
    "1. Buka python editor dan buat script baru dengan nama \"ForLoop.py\".\n",
    "2. Buat list yang berisi beberapa angka."
   ]
  },
  {
   "cell_type": "code",
   "execution_count": null,
   "id": "693f0292",
   "metadata": {},
   "outputs": [],
   "source": [
    "numbers = [1,10,20,30,40,50]"
   ]
  },
  {
   "cell_type": "markdown",
   "id": "bef277a2",
   "metadata": {},
   "source": [
    "### \n",
    "3. Tuliskan kode untuk melakukan perhitungan jumlah total angka yang ada dalam list."
   ]
  },
  {
   "cell_type": "code",
   "execution_count": null,
   "id": "2196887b",
   "metadata": {},
   "outputs": [],
   "source": [
    "sum = 0\n",
    "for number in numbers:\n",
    "    sum += number"
   ]
  },
  {
   "cell_type": "markdown",
   "id": "a88e3018",
   "metadata": {},
   "source": [
    "### \n",
    "4. Jalankan program tersebut dan tampilkan hasilnya."
   ]
  },
  {
   "cell_type": "code",
   "execution_count": null,
   "id": "13493ced",
   "metadata": {},
   "outputs": [],
   "source": [
    "print(sum)"
   ]
  }
 ],
 "metadata": {
  "kernelspec": {
   "display_name": "Python 3 (ipykernel)",
   "language": "python",
   "name": "python3"
  },
  "language_info": {
   "codemirror_mode": {
    "name": "ipython",
    "version": 3
   },
   "file_extension": ".py",
   "mimetype": "text/x-python",
   "name": "python",
   "nbconvert_exporter": "python",
   "pygments_lexer": "ipython3",
   "version": "3.9.7"
  }
 },
 "nbformat": 4,
 "nbformat_minor": 5
}
