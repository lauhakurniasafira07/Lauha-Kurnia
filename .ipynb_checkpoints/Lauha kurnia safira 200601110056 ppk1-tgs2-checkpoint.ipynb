{
 "cells": [
  {
   "cell_type": "markdown",
   "id": "3cf06171",
   "metadata": {},
   "source": [
    "# Tipe List"
   ]
  },
  {
   "cell_type": "markdown",
   "id": "52abad4e",
   "metadata": {},
   "source": [
    "#### List merupakan objek yang bersifat mutable atau nilainya dapat diubah.Kita dapat menambah, mengubah, maupun menghapus elemen-elemen yang terdapat di dalam list. Objek list dibuat menggunakan tanda [ ].Setiap objek atau elemen yang terdapat di dalam list harus dibatasi menggunakan tanda koma, tapi tidak harus sejenis. Artinya, bisa saja list berisi beberapa objek yang berasal dari tipe berlainan, misalnya str, int, dan sebagainya."
   ]
  },
  {
   "cell_type": "markdown",
   "id": "327d928a",
   "metadata": {},
   "source": [
    "## Algorithm 3.1"
   ]
  },
  {
   "cell_type": "code",
   "execution_count": 1,
   "id": "0ed4c7f7",
   "metadata": {},
   "outputs": [
    {
     "data": {
      "text/plain": [
       "[10, 8, 12, 6, 15]"
      ]
     },
     "execution_count": 1,
     "metadata": {},
     "output_type": "execute_result"
    }
   ],
   "source": [
    "list1=[100,200,300,400]\n",
    "list2=[1,'Pemograman Komputer',1200.00]\n",
    "list=[10,8,12,6,15]\n",
    "list"
   ]
  },
  {
   "cell_type": "code",
   "execution_count": 2,
   "id": "9d32198c",
   "metadata": {},
   "outputs": [
    {
     "data": {
      "text/plain": [
       "[10, 8, 12, 6, 15]"
      ]
     },
     "execution_count": 2,
     "metadata": {},
     "output_type": "execute_result"
    }
   ],
   "source": [
    "len(list)#Menghitung banyaknya elemen didalam list 5\n",
    "li=[10,8,12,6,15]\n",
    "li"
   ]
  },
  {
   "cell_type": "code",
   "execution_count": 3,
   "id": "cb13970e",
   "metadata": {},
   "outputs": [
    {
     "data": {
      "text/plain": [
       "(10, 8, 12, 6, 15)"
      ]
     },
     "execution_count": 3,
     "metadata": {},
     "output_type": "execute_result"
    }
   ],
   "source": [
    "li[0],li[1],li[2],li[3],li[4]"
   ]
  },
  {
   "cell_type": "code",
   "execution_count": 4,
   "id": "0a17e34c",
   "metadata": {},
   "outputs": [
    {
     "data": {
      "text/plain": [
       "(10, 8, 12, 6, 15)"
      ]
     },
     "execution_count": 4,
     "metadata": {},
     "output_type": "execute_result"
    }
   ],
   "source": [
    "li[-5],li[-4],li[-3],li[-2],li[-1]"
   ]
  },
  {
   "cell_type": "code",
   "execution_count": 5,
   "id": "e8d1f6be",
   "metadata": {},
   "outputs": [
    {
     "data": {
      "text/plain": [
       "[10, 8, 12, 6, 15, 20, 25, 100, 200, 300]"
      ]
     },
     "execution_count": 5,
     "metadata": {},
     "output_type": "execute_result"
    }
   ],
   "source": [
    "li.append(20)#menambahkan elemen dalam list\n",
    "li.append(25)\n",
    "li=[10,8,12,6,15,20,25]\n",
    "li.extend([100,200,300])#menambahkan list dalam sebuah list\n",
    "li"
   ]
  },
  {
   "cell_type": "code",
   "execution_count": 6,
   "id": "431e6cd1",
   "metadata": {},
   "outputs": [
    {
     "data": {
      "text/plain": [
       "[99, 77, 12, 6, 15, 20, 25, 100, 200, 300]"
      ]
     },
     "execution_count": 6,
     "metadata": {},
     "output_type": "execute_result"
    }
   ],
   "source": [
    "li[0]=99\n",
    "li[1]=77\n",
    "li"
   ]
  },
  {
   "cell_type": "code",
   "execution_count": 10,
   "id": "f4f64f23",
   "metadata": {},
   "outputs": [
    {
     "data": {
      "text/plain": [
       "[77, 12, 6, 20, 25, 100, 200]"
      ]
     },
     "execution_count": 10,
     "metadata": {},
     "output_type": "execute_result"
    }
   ],
   "source": [
    "li.remove(99)#menghapus elemen di dalam list\n",
    "li.remove(300)\n",
    "li.remove(15)\n",
    "li"
   ]
  },
  {
   "cell_type": "code",
   "execution_count": 11,
   "id": "dd3dac8b",
   "metadata": {},
   "outputs": [
    {
     "data": {
      "text/plain": [
       "[]"
      ]
     },
     "execution_count": 11,
     "metadata": {},
     "output_type": "execute_result"
    }
   ],
   "source": [
    "li.clear()#Menghapus semua elemen didalam list\n",
    "li"
   ]
  },
  {
   "cell_type": "markdown",
   "id": "bb5f92cc",
   "metadata": {},
   "source": [
    "# Tipe Dictionary"
   ]
  },
  {
   "cell_type": "markdown",
   "id": "cdc9cd67",
   "metadata": {},
   "source": [
    "#### Dictionary (kamus) atau sering juga disebut tipe mapping merupakan objek yang berisi daftar pasangan kunci dan nilai (key-value pair). Pada struktur data list, elemen-elemen diindeks berdasarkan bilangan positif maupun negatif tergantung dari arah mana elemen-elemen tersebut akan diakses. Pada struktur dat dictionary, elemen-elemen akan diindeks berdasarkan kuncinya. Objek yang dijadikan sebagai kunci dapat berasal dari tipe apa saja, tapi pada umumnya berupa string, atau paling tidak berupa bilangan. Berbeda dengan list, dictionary dibuat menggunakan { }. Setiap pasangan kunci dan nilai harus dipisahkan menggunakan tanda ( : ).\n"
   ]
  },
  {
   "cell_type": "markdown",
   "id": "e753f75a",
   "metadata": {},
   "source": [
    "## Algorithm 3.2"
   ]
  },
  {
   "cell_type": "code",
   "execution_count": 12,
   "id": "bf53c60e",
   "metadata": {},
   "outputs": [
    {
     "data": {
      "text/plain": [
       "{'B': 4, 'C': 3, 'D': 2, 'E': 1, 'F': 0}"
      ]
     },
     "execution_count": 12,
     "metadata": {},
     "output_type": "execute_result"
    }
   ],
   "source": [
    "nb={'B':4,'C':3,'D':2,'E':1,'F':0}\n",
    "nb"
   ]
  },
  {
   "cell_type": "code",
   "execution_count": 13,
   "id": "419530e8",
   "metadata": {},
   "outputs": [
    {
     "data": {
      "text/plain": [
       "dict_keys(['B', 'C', 'D', 'E', 'F'])"
      ]
     },
     "execution_count": 13,
     "metadata": {},
     "output_type": "execute_result"
    }
   ],
   "source": [
    "nb.keys()#Menampilkan Kata Kunci (key) dalam Dictionary"
   ]
  },
  {
   "cell_type": "code",
   "execution_count": 14,
   "id": "de27c364",
   "metadata": {},
   "outputs": [
    {
     "data": {
      "text/plain": [
       "dict_values([4, 3, 2, 1, 0])"
      ]
     },
     "execution_count": 14,
     "metadata": {},
     "output_type": "execute_result"
    }
   ],
   "source": [
    "nb.values()#Menampilkan Kata Value dalam Dictionary"
   ]
  },
  {
   "cell_type": "code",
   "execution_count": 15,
   "id": "8a91e8d5",
   "metadata": {},
   "outputs": [
    {
     "data": {
      "text/plain": [
       "4"
      ]
     },
     "execution_count": 15,
     "metadata": {},
     "output_type": "execute_result"
    }
   ],
   "source": [
    "nb['B']"
   ]
  },
  {
   "cell_type": "code",
   "execution_count": 16,
   "id": "897d6e34",
   "metadata": {},
   "outputs": [
    {
     "data": {
      "text/plain": [
       "3"
      ]
     },
     "execution_count": 16,
     "metadata": {},
     "output_type": "execute_result"
    }
   ],
   "source": [
    "nb['C']"
   ]
  },
  {
   "cell_type": "code",
   "execution_count": 17,
   "id": "66c5c85a",
   "metadata": {},
   "outputs": [
    {
     "data": {
      "text/plain": [
       "2"
      ]
     },
     "execution_count": 17,
     "metadata": {},
     "output_type": "execute_result"
    }
   ],
   "source": [
    "nb['D']"
   ]
  },
  {
   "cell_type": "code",
   "execution_count": 18,
   "id": "aa9e7163",
   "metadata": {},
   "outputs": [
    {
     "data": {
      "text/plain": [
       "'kucing'"
      ]
     },
     "execution_count": 18,
     "metadata": {},
     "output_type": "execute_result"
    }
   ],
   "source": [
    "kamus={'mouse':'tikus','cat':'kucing'}\n",
    "kamus['cat']"
   ]
  },
  {
   "cell_type": "code",
   "execution_count": 19,
   "id": "dad18f46",
   "metadata": {},
   "outputs": [
    {
     "data": {
      "text/plain": [
       "dict_keys(['mouse', 'cat'])"
      ]
     },
     "execution_count": 19,
     "metadata": {},
     "output_type": "execute_result"
    }
   ],
   "source": [
    "kamus.keys()"
   ]
  },
  {
   "cell_type": "code",
   "execution_count": 20,
   "id": "176694e0",
   "metadata": {},
   "outputs": [
    {
     "data": {
      "text/plain": [
       "dict_values(['tikus', 'kucing'])"
      ]
     },
     "execution_count": 20,
     "metadata": {},
     "output_type": "execute_result"
    }
   ],
   "source": [
    "kamus.values()"
   ]
  },
  {
   "cell_type": "markdown",
   "id": "b4929fb0",
   "metadata": {},
   "source": [
    "# Tipe Tuple"
   ]
  },
  {
   "cell_type": "markdown",
   "id": "15d77b3b",
   "metadata": {},
   "source": [
    "#### Tuple adalah tipe koleksi yang mirip dengan list. Pebedaannya, tuple bersifat immutable atau elemen-elemennya tidak dapat diubah, baik nilainy maupun jumlah elemennya. Ini berarti bahwa kita tidak dapat menambah, mengubah, atau menghapus elemen di dalam tuple. Dengan kata lain, tuple merupakan koleksi yang bersifat konstan. Tuple dibuat menggunakan tanda ( )"
   ]
  },
  {
   "cell_type": "markdown",
   "id": "8b99bb94",
   "metadata": {},
   "source": [
    "## Algorithm 3.3"
   ]
  },
  {
   "cell_type": "code",
   "execution_count": 21,
   "id": "7012efb7",
   "metadata": {},
   "outputs": [
    {
     "data": {
      "text/plain": [
       "10"
      ]
     },
     "execution_count": 21,
     "metadata": {},
     "output_type": "execute_result"
    }
   ],
   "source": [
    "t=(10,20,30)\n",
    "t[0]"
   ]
  },
  {
   "cell_type": "code",
   "execution_count": 22,
   "id": "cecde0cb",
   "metadata": {},
   "outputs": [
    {
     "data": {
      "text/plain": [
       "20"
      ]
     },
     "execution_count": 22,
     "metadata": {},
     "output_type": "execute_result"
    }
   ],
   "source": [
    "t[1]"
   ]
  },
  {
   "cell_type": "code",
   "execution_count": 23,
   "id": "15f3f463",
   "metadata": {},
   "outputs": [
    {
     "data": {
      "text/plain": [
       "30"
      ]
     },
     "execution_count": 23,
     "metadata": {},
     "output_type": "execute_result"
    }
   ],
   "source": [
    "t[2]"
   ]
  },
  {
   "cell_type": "code",
   "execution_count": 24,
   "id": "c2ce9074",
   "metadata": {},
   "outputs": [
    {
     "data": {
      "text/plain": [
       "(10, 20, 30)"
      ]
     },
     "execution_count": 24,
     "metadata": {},
     "output_type": "execute_result"
    }
   ],
   "source": [
    "t[-3],t[-2],t[-1]"
   ]
  },
  {
   "cell_type": "code",
   "execution_count": 25,
   "id": "e17313a8",
   "metadata": {},
   "outputs": [
    {
     "data": {
      "text/plain": [
       "3"
      ]
     },
     "execution_count": 25,
     "metadata": {},
     "output_type": "execute_result"
    }
   ],
   "source": [
    "len(t)#Menghitung banyaknya elemen didalam Tuple"
   ]
  },
  {
   "cell_type": "markdown",
   "id": "6da5fdd4",
   "metadata": {},
   "source": [
    "# Tipe Set"
   ]
  },
  {
   "cell_type": "markdown",
   "id": "b75ef634",
   "metadata": {},
   "source": [
    "#### set (himpunan) adalah tipe koleksi yang setiap elemennya bersifat unik. Dengan demikian, di dalam set tidak akan pernah ada duplikasi nilai elemen. Jika pada saat pembuatan set terdapat beberapa elemen yang nilainya sama, maka elemen-elemen tersebut hanya akan diambil satu, sisanya secara otomatis akan dibuang. Set dibuat menggunakan fungsi set( ) dengan parameter bisa berupa list, dictionary, tuple, maupun string.\n"
   ]
  },
  {
   "cell_type": "markdown",
   "id": "492bacf1",
   "metadata": {},
   "source": [
    "## Algorithm 3.4"
   ]
  },
  {
   "cell_type": "code",
   "execution_count": 27,
   "id": "45140138",
   "metadata": {},
   "outputs": [
    {
     "data": {
      "text/plain": [
       "{10, 20, 30}"
      ]
     },
     "execution_count": 27,
     "metadata": {},
     "output_type": "execute_result"
    }
   ],
   "source": [
    "s=set([10,10,20,30,30,30])\n",
    "s"
   ]
  },
  {
   "cell_type": "code",
   "execution_count": 28,
   "id": "7756c879",
   "metadata": {},
   "outputs": [
    {
     "data": {
      "text/plain": [
       "3"
      ]
     },
     "execution_count": 28,
     "metadata": {},
     "output_type": "execute_result"
    }
   ],
   "source": [
    "len(s)"
   ]
  },
  {
   "cell_type": "code",
   "execution_count": 29,
   "id": "4fd6ddb0",
   "metadata": {},
   "outputs": [
    {
     "data": {
      "text/plain": [
       "{10, 20, 30, 60}"
      ]
     },
     "execution_count": 29,
     "metadata": {},
     "output_type": "execute_result"
    }
   ],
   "source": [
    "s.add(60)#Menambahkan anggota himpunan (set)\n",
    "s"
   ]
  },
  {
   "cell_type": "code",
   "execution_count": 30,
   "id": "601004ee",
   "metadata": {},
   "outputs": [
    {
     "data": {
      "text/plain": [
       "4"
      ]
     },
     "execution_count": 30,
     "metadata": {},
     "output_type": "execute_result"
    }
   ],
   "source": [
    "len(s)"
   ]
  },
  {
   "cell_type": "code",
   "execution_count": null,
   "id": "1b0fa628",
   "metadata": {},
   "outputs": [],
   "source": []
  }
 ],
 "metadata": {
  "kernelspec": {
   "display_name": "Python 3 (ipykernel)",
   "language": "python",
   "name": "python3"
  },
  "language_info": {
   "codemirror_mode": {
    "name": "ipython",
    "version": 3
   },
   "file_extension": ".py",
   "mimetype": "text/x-python",
   "name": "python",
   "nbconvert_exporter": "python",
   "pygments_lexer": "ipython3",
   "version": "3.9.7"
  }
 },
 "nbformat": 4,
 "nbformat_minor": 5
}
