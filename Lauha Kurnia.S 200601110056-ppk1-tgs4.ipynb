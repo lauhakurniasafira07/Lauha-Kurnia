{
 "cells": [
  {
   "cell_type": "markdown",
   "id": "a9fcf6f9",
   "metadata": {},
   "source": [
    "### Nama : Lauha Kurnia Safira\n",
    "### NIM : 200601110056\n",
    "### Kelas : Praktikum Pemograman Komputer 1-F"
   ]
  },
  {
   "cell_type": "markdown",
   "id": "a550bd8f",
   "metadata": {},
   "source": [
    "### NOMOR 1\n",
    "Buatlah program yang meminta masukan user sebuah bilangan\n",
    "bulat N di mana (N > 0). Program kemudian menampilkan \n",
    "penjumlahan N bilangan genap positif pertama (bilangan genap ≥ \n",
    "0). Contoh:\n",
    "• Jika user memasukkan N = 3, maka outputnya: 0 + 2 + 4 = 6\n",
    "• Jika user memasukkan N = 5, maka outputnya: 0 + 2 + 4 + 6 + 8 = 20\n"
   ]
  },
  {
   "cell_type": "code",
   "execution_count": 1,
   "id": "79950eeb",
   "metadata": {},
   "outputs": [
    {
     "name": "stdout",
     "output_type": "stream",
     "text": [
      "Jika user memasukan N= 3\n",
      "Bilangan genap ke-  1  : 0\n",
      "Bilangan genap ke-  2  : 2\n",
      "Bilangan genap ke-  3  : 4\n",
      "Total=  6\n"
     ]
    }
   ],
   "source": [
    "S=int(input(\"Jika user memasukan N= \"))\n",
    "angka=0\n",
    "t=0\n",
    "u=0\n",
    "for i in range(0,S*2,2):\n",
    "    angka=angka+i\n",
    "    t=t+1\n",
    "    u=u+i\n",
    "    print(\"Bilangan genap ke- \",t,\" :\",i)\n",
    "print(\"Total= \",u)"
   ]
  },
  {
   "cell_type": "code",
   "execution_count": 2,
   "id": "aba5aa2e",
   "metadata": {},
   "outputs": [
    {
     "name": "stdout",
     "output_type": "stream",
     "text": [
      "Jika user memasukan N= 5\n",
      "Bilangan genap ke-  1  : 0\n",
      "Bilangan genap ke-  2  : 2\n",
      "Bilangan genap ke-  3  : 4\n",
      "Bilangan genap ke-  4  : 6\n",
      "Bilangan genap ke-  5  : 8\n",
      "Total=  20\n"
     ]
    }
   ],
   "source": [
    "S=int(input(\"Jika user memasukan N= \"))\n",
    "angka=0\n",
    "t=0\n",
    "u=0\n",
    "for i in range(0,S*2,2):\n",
    "    angka=angka+i\n",
    "    t=t+1\n",
    "    u=u+i\n",
    "    print(\"Bilangan genap ke- \",t,\" :\",i)\n",
    "print(\"Total= \",u)"
   ]
  },
  {
   "cell_type": "code",
   "execution_count": 32,
   "id": "beeb0384",
   "metadata": {},
   "outputs": [
    {
     "name": "stdout",
     "output_type": "stream",
     "text": [
      "Jika user memasukan N= 7\n",
      "Bilangan genap ke-  1  : 0\n",
      "Bilangan genap ke-  2  : 2\n",
      "Bilangan genap ke-  3  : 4\n",
      "Bilangan genap ke-  4  : 6\n",
      "Bilangan genap ke-  5  : 8\n",
      "Bilangan genap ke-  6  : 10\n",
      "Bilangan genap ke-  7  : 12\n",
      "Total=  42\n"
     ]
    }
   ],
   "source": [
    "S=int(input(\"Jika user memasukan N= \"))\n",
    "angka=0\n",
    "t=0\n",
    "u=0\n",
    "for i in range(0,S*2,2):\n",
    "    angka=angka+i\n",
    "    t=t+1\n",
    "    u=u+i\n",
    "    print(\"Bilangan genap ke- \",t,\" :\",i)\n",
    "print(\"Total= \",u)"
   ]
  },
  {
   "cell_type": "markdown",
   "id": "4f470045",
   "metadata": {},
   "source": [
    "### NOMOR 2\n",
    "Buatlah sebuah program yang meminta masukan user sebuah \n",
    "bilangan bulat N dimana (N > 0). Kemudian, program \n",
    "menampilkan penjumlahan N bilangan kuadrat pertama. Bilangan \n",
    "kuadrat adalah = 1,4,9,16,25,36,...., N 2 . Contoh:\n",
    "• Jika user memasukkan N = 2, maka outputnya: 1 + 4 = 5\n",
    "• Jika user memasukkan N = 3, maka outputnya: 1 + 4 + 9 = 14\n"
   ]
  },
  {
   "cell_type": "code",
   "execution_count": 3,
   "id": "e03d06b4",
   "metadata": {},
   "outputs": [
    {
     "name": "stdout",
     "output_type": "stream",
     "text": [
      "masukkan angka: 7\n",
      "deret bilangan kuadrat:\n",
      "1 4 9 16 25 36 49 sehingga hasil penjumlahan kuadrat:  140\n"
     ]
    }
   ],
   "source": [
    "i,N,jum=1,0,0\n",
    "\n",
    "N=int(input(\"masukkan angka: \"))\n",
    "print(\"deret bilangan kuadrat:\")\n",
    "while True:\n",
    "    jum += i*i\n",
    "    print(i*i,end=' ')\n",
    "    i += 1\n",
    "    if i>N:\n",
    "        break\n",
    "print(\"sehingga hasil penjumlahan kuadrat: \",jum)"
   ]
  },
  {
   "cell_type": "code",
   "execution_count": 4,
   "id": "d45bd9b4",
   "metadata": {},
   "outputs": [
    {
     "name": "stdout",
     "output_type": "stream",
     "text": [
      "masukkan angka: 2\n",
      "deret bilangan kuadrat:\n",
      "1 4 sehingga hasil penjumlahan kuadrat:  5\n"
     ]
    }
   ],
   "source": [
    "i,N,jum=1,0,0\n",
    "\n",
    "N=int(input(\"masukkan angka: \"))\n",
    "print(\"deret bilangan kuadrat:\")\n",
    "while True:\n",
    "    jum += i*i\n",
    "    print(i*i,end=' ')\n",
    "    i += 1\n",
    "    if i>N:\n",
    "        break\n",
    "print(\"sehingga hasil penjumlahan kuadrat: \",jum)"
   ]
  },
  {
   "cell_type": "code",
   "execution_count": 5,
   "id": "308da6b8",
   "metadata": {},
   "outputs": [
    {
     "name": "stdout",
     "output_type": "stream",
     "text": [
      "masukkan angka: 3\n",
      "deret bilangan kuadrat:\n",
      "1 4 9 sehingga hasil penjumlahan kuadrat:  14\n"
     ]
    }
   ],
   "source": [
    "i,N,jum=1,0,0\n",
    "\n",
    "N=int(input(\"masukkan angka: \"))\n",
    "print(\"deret bilangan kuadrat:\")\n",
    "while True:\n",
    "    jum += i*i\n",
    "    print(i*i,end=' ')\n",
    "    i += 1\n",
    "    if i>N:\n",
    "        break\n",
    "print(\"sehingga hasil penjumlahan kuadrat: \",jum)"
   ]
  },
  {
   "cell_type": "code",
   "execution_count": 33,
   "id": "a4069114",
   "metadata": {},
   "outputs": [
    {
     "name": "stdout",
     "output_type": "stream",
     "text": [
      "masukkan angka: 11\n",
      "deret bilangan kuadrat:\n",
      "1 4 9 16 25 36 49 64 81 100 121 sehingga hasil penjumlahan kuadrat:  506\n"
     ]
    }
   ],
   "source": [
    "i,N,jum=1,0,0\n",
    "\n",
    "N=int(input(\"masukkan angka: \"))\n",
    "print(\"deret bilangan kuadrat:\")\n",
    "while True:\n",
    "    jum += i*i\n",
    "    print(i*i,end=' ')\n",
    "    i += 1\n",
    "    if i>N:\n",
    "        break\n",
    "print(\"sehingga hasil penjumlahan kuadrat: \",jum)"
   ]
  },
  {
   "cell_type": "markdown",
   "id": "c7c03504",
   "metadata": {},
   "source": [
    "### NOMOR 3\n",
    "Buatlah sebuah program yang meminta masukan user sebuah \n",
    "bilangan bulat N dimana (N > 0). Program kemudian memeriksa \n",
    "setiap digit yang ada di angka tersebut, dan menampilkan berapa \n",
    "jumlah digit yang ganjil dari bilangan N tersebut.\n",
    "• Jika user memasukkan N = 2345, jumlah digit yang ganjil = 2\n",
    "• Jika user memasukkan N = 993312, jumlah digit yang ganjil = 5\n"
   ]
  },
  {
   "cell_type": "code",
   "execution_count": 30,
   "id": "58caef9e",
   "metadata": {},
   "outputs": [
    {
     "name": "stdout",
     "output_type": "stream",
     "text": [
      "Masukkan N : 2345\n",
      "jumlah digit yang ganjil:  2\n"
     ]
    }
   ],
   "source": [
    "N = input(\"Masukkan N : \")\n",
    "ganjil=0\n",
    "g=''\n",
    "for i in N:\n",
    "    if i in'13579':\n",
    "        ganjil += 1\n",
    "        g = g+i+''\n",
    "print(\"jumlah digit yang ganjil: \",ganjil)"
   ]
  },
  {
   "cell_type": "code",
   "execution_count": 31,
   "id": "62f7898d",
   "metadata": {},
   "outputs": [
    {
     "name": "stdout",
     "output_type": "stream",
     "text": [
      "Masukkan N : 993312\n",
      "jumlah digit yang ganjil:  5\n"
     ]
    }
   ],
   "source": [
    "N = input(\"Masukkan N : \")\n",
    "ganjil=0\n",
    "g=''\n",
    "for i in N:\n",
    "    if i in'13579':\n",
    "        ganjil += 1\n",
    "        g = g+i+''\n",
    "print(\"jumlah digit yang ganjil: \",ganjil)"
   ]
  },
  {
   "cell_type": "code",
   "execution_count": 34,
   "id": "640da40b",
   "metadata": {},
   "outputs": [
    {
     "name": "stdout",
     "output_type": "stream",
     "text": [
      "Masukkan N : 579131128596\n",
      "jumlah digit yang ganjil:  9\n"
     ]
    }
   ],
   "source": [
    "N = input(\"Masukkan N : \")\n",
    "ganjil=0\n",
    "g=''\n",
    "for i in N:\n",
    "    if i in'13579':\n",
    "        ganjil += 1\n",
    "        g = g+i+''\n",
    "print(\"jumlah digit yang ganjil: \",ganjil)"
   ]
  },
  {
   "cell_type": "code",
   "execution_count": null,
   "id": "0974fe2d",
   "metadata": {},
   "outputs": [],
   "source": []
  }
 ],
 "metadata": {
  "kernelspec": {
   "display_name": "Python 3 (ipykernel)",
   "language": "python",
   "name": "python3"
  },
  "language_info": {
   "codemirror_mode": {
    "name": "ipython",
    "version": 3
   },
   "file_extension": ".py",
   "mimetype": "text/x-python",
   "name": "python",
   "nbconvert_exporter": "python",
   "pygments_lexer": "ipython3",
   "version": "3.9.7"
  }
 },
 "nbformat": 4,
 "nbformat_minor": 5
}
