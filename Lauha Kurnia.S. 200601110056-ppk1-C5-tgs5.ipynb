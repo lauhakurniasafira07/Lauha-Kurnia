{
 "cells": [
  {
   "cell_type": "markdown",
   "id": "910338a0",
   "metadata": {},
   "source": [
    "## File Handling"
   ]
  },
  {
   "cell_type": "code",
   "execution_count": 2,
   "id": "c3f9e893",
   "metadata": {},
   "outputs": [
    {
     "name": "stdout",
     "output_type": "stream",
     "text": [
      "Hallo, nama saya Lauha Kurnia Safira dengan NIM 200601110056.\n",
      "Saya adalah mahasiswa jurusan Matematika di UIN MALIKI MALANG.\n",
      "Senang bisa mengikuti kelas Praktikum Pemograman Komputer 1 setiap hari Kamis pagi.\n"
     ]
    }
   ],
   "source": [
    "f=open(\"lauha.txt\", \"r\")\n",
    "print(f.read())"
   ]
  },
  {
   "cell_type": "code",
   "execution_count": 3,
   "id": "77947b70",
   "metadata": {},
   "outputs": [
    {
     "name": "stdout",
     "output_type": "stream",
     "text": [
      "Hallo, nama saya Lau\n"
     ]
    }
   ],
   "source": [
    "f=open(\"lauha.txt\", \"r\")\n",
    "print(f.read(20))"
   ]
  },
  {
   "cell_type": "code",
   "execution_count": 4,
   "id": "0d18dc5a",
   "metadata": {},
   "outputs": [
    {
     "name": "stdout",
     "output_type": "stream",
     "text": [
      "Hallo, nama saya Lauha Kurnia Safira dengan NIM 200601110056.\n",
      "Saya adalah mahasiswa jurusan Matematika di UIN MALIKI MALANG.\n",
      "Senang bisa mengikuti kelas Praktikum Pemograman Komputer 1 setiap hari Kamis pagi.Now the file has more content!\n"
     ]
    }
   ],
   "source": [
    "f=open(\"lauha.txt\", \"a\")\n",
    "f.write(\"Now the file has more content!\")\n",
    "f.close()\n",
    "\n",
    "#open and read the file after the appending:\n",
    "f=open(\"lauha.txt\", \"r\")\n",
    "print(f.read())"
   ]
  },
  {
   "cell_type": "markdown",
   "id": "bd857627",
   "metadata": {},
   "source": [
    "## CHAPTER 5\n",
    "### Praktikum 9: PendahuluanNumPy\n",
    "#### 5.1 Pendahuluan\n",
    "Topik utama dari NumPy adalah array multidimensi yang diindeks oleh tuple atau pasangan bilangan bulat positif. Dalam NumPy dimensi disebut sebagai axis, dan banyaknya axis disebut rank. Sebagai contoh, koordinat sebuah titik diruang 3D dinyatakan sebagai [1,2,1] yang merupakan sebuah array dengan rank 1 karena terdiri dari satu axis. Sedangkan panjang axis tersebut adalah 3. Pada contoh berikut, array-nya mempunyai rank 2. Axis pertama panjangnya 2, dan axis kedua panjangnya 3"
   ]
  },
  {
   "cell_type": "code",
   "execution_count": null,
   "id": "cee957cb",
   "metadata": {},
   "outputs": [],
   "source": [
    "[[ 1., 0., 0.],\n",
    "[ 0., 1., 2.]]"
   ]
  },
  {
   "cell_type": "markdown",
   "id": "41f67d6e",
   "metadata": {},
   "source": [
    "array NumPy disebut sebagai ndarray , atau dikenal juga dengan sebutan array. Catat bahwa numpy.array tidak sama dengan array Standard Python array.array, yang hanya bisa digunakan untuk array \n",
    "satu dimensi dan dengan fitur yang lebih sedikit. Atribut yang paling penting dari ndarray adalah:\n",
    "ndarray.ndim banyaknya axis atau dimensi dari array. Di Python, banyaknya dimensi disebut sebagai rank.\n",
    "ndarray.shape dimensi dari array. Ini adalah pasangan bilangan bulat yang menunjukkan ukuran array di setiap dimensi. Untuk matriks dengan n baris dan m kolom, bentuknya adalah (n, m). Panjang dari pasangan shape adalah rank, atau jumlah dimensi, ndim.\n",
    "ndarray.size jumlah elemen dari array. Ini sama dengan perkalian elemen dari shape.\n",
    "ndarray.dtype sebuah objek yang menggambarkan jenis elemen dalam array. Seseorang dapat membuat atau menentukan jenis dtype menggunakan jenis Python standar. Selain itu NumPy menyediakan jenisnya sendiri. numpy.int32, numpy.int16, dan numpy.float64 adalah beberapa contohnya.\n",
    "ndarray.itemsize ukurandalambytedarisetiapelemenarray. Sebagai contoh, sebuah array dari elemen tipe float64 memiliki itemsize 8 (= 64/8), sedangkan satu dari tipe complex32 memiliki itemsize 4 (= 32/8). Ini sama dengan ndarray.dtype.itemsize.\n",
    "ndarray.data buffer yang mengandung elemen sebenarnya dari array. Biasanya, kita tidak perlu menggunakan atribut ini karena kitaakan mengakses elemen dalam array menggunakan fasilitas pengindeksan.\n",
    "Contoh:"
   ]
  },
  {
   "cell_type": "code",
   "execution_count": 9,
   "id": "b96da4fe",
   "metadata": {},
   "outputs": [
    {
     "data": {
      "text/plain": [
       "array([[ 0,  1,  2,  3,  4],\n",
       "       [ 5,  6,  7,  8,  9],\n",
       "       [10, 11, 12, 13, 14]])"
      ]
     },
     "execution_count": 9,
     "metadata": {},
     "output_type": "execute_result"
    }
   ],
   "source": [
    "import numpy as np\n",
    "a=np.arange(15).reshape(3,5)\n",
    "a"
   ]
  },
  {
   "cell_type": "code",
   "execution_count": 10,
   "id": "abfc84c0",
   "metadata": {},
   "outputs": [
    {
     "data": {
      "text/plain": [
       "(3, 5)"
      ]
     },
     "execution_count": 10,
     "metadata": {},
     "output_type": "execute_result"
    }
   ],
   "source": [
    "a.shape"
   ]
  },
  {
   "cell_type": "code",
   "execution_count": 11,
   "id": "e49ed667",
   "metadata": {},
   "outputs": [
    {
     "data": {
      "text/plain": [
       "2"
      ]
     },
     "execution_count": 11,
     "metadata": {},
     "output_type": "execute_result"
    }
   ],
   "source": [
    "a.ndim"
   ]
  },
  {
   "cell_type": "code",
   "execution_count": 12,
   "id": "7c5ec5d2",
   "metadata": {},
   "outputs": [
    {
     "data": {
      "text/plain": [
       "'int32'"
      ]
     },
     "execution_count": 12,
     "metadata": {},
     "output_type": "execute_result"
    }
   ],
   "source": [
    "a.dtype.name"
   ]
  },
  {
   "cell_type": "code",
   "execution_count": 13,
   "id": "0a08486c",
   "metadata": {},
   "outputs": [
    {
     "data": {
      "text/plain": [
       "4"
      ]
     },
     "execution_count": 13,
     "metadata": {},
     "output_type": "execute_result"
    }
   ],
   "source": [
    "a.itemsize"
   ]
  },
  {
   "cell_type": "code",
   "execution_count": 14,
   "id": "c4df0175",
   "metadata": {},
   "outputs": [
    {
     "data": {
      "text/plain": [
       "15"
      ]
     },
     "execution_count": 14,
     "metadata": {},
     "output_type": "execute_result"
    }
   ],
   "source": [
    "a.size"
   ]
  },
  {
   "cell_type": "code",
   "execution_count": 15,
   "id": "e8c38d2b",
   "metadata": {},
   "outputs": [
    {
     "data": {
      "text/plain": [
       "numpy.ndarray"
      ]
     },
     "execution_count": 15,
     "metadata": {},
     "output_type": "execute_result"
    }
   ],
   "source": [
    "type(a)"
   ]
  },
  {
   "cell_type": "code",
   "execution_count": 16,
   "id": "265bb1ca",
   "metadata": {},
   "outputs": [
    {
     "data": {
      "text/plain": [
       "array([6, 7, 8])"
      ]
     },
     "execution_count": 16,
     "metadata": {},
     "output_type": "execute_result"
    }
   ],
   "source": [
    "b=np.array([6,7,8])\n",
    "b"
   ]
  },
  {
   "cell_type": "code",
   "execution_count": 17,
   "id": "f3f3c8e5",
   "metadata": {},
   "outputs": [
    {
     "data": {
      "text/plain": [
       "numpy.ndarray"
      ]
     },
     "execution_count": 17,
     "metadata": {},
     "output_type": "execute_result"
    }
   ],
   "source": [
    "type(b)"
   ]
  },
  {
   "cell_type": "markdown",
   "id": "85af19d5",
   "metadata": {},
   "source": [
    "#### 5.2 Membuat Array\n",
    "Ada beberapa cara untuk membuat array. Misalnya, Anda dapat \n",
    "membuat array dari list Python biasa atau pasangan menggunakan \n",
    "fungsi array. Tipe array yang dihasilkan disimpulkan dari tipe elemen \n",
    "dalam array.\n"
   ]
  },
  {
   "cell_type": "code",
   "execution_count": 18,
   "id": "93f3446d",
   "metadata": {},
   "outputs": [
    {
     "data": {
      "text/plain": [
       "array([2, 3, 4])"
      ]
     },
     "execution_count": 18,
     "metadata": {},
     "output_type": "execute_result"
    }
   ],
   "source": [
    "import numpy as np\n",
    "a=np.array([2,3,4])\n",
    "a"
   ]
  },
  {
   "cell_type": "code",
   "execution_count": 19,
   "id": "16e8a553",
   "metadata": {},
   "outputs": [
    {
     "data": {
      "text/plain": [
       "dtype('int32')"
      ]
     },
     "execution_count": 19,
     "metadata": {},
     "output_type": "execute_result"
    }
   ],
   "source": [
    "a.dtype"
   ]
  },
  {
   "cell_type": "code",
   "execution_count": 20,
   "id": "3fe6fdc9",
   "metadata": {},
   "outputs": [
    {
     "data": {
      "text/plain": [
       "dtype('float64')"
      ]
     },
     "execution_count": 20,
     "metadata": {},
     "output_type": "execute_result"
    }
   ],
   "source": [
    "b=np.array([1.2,3.5,5.1])\n",
    "b.dtype"
   ]
  },
  {
   "cell_type": "markdown",
   "id": "33d49323",
   "metadata": {},
   "source": [
    "Kesalahan yang sering terjadi dalam pembuatan array diantaranya adalah:"
   ]
  },
  {
   "cell_type": "code",
   "execution_count": null,
   "id": "c053c5cf",
   "metadata": {},
   "outputs": [],
   "source": [
    "a=np.array(1,2,3,4) #WRONG\n",
    "a=np.array([1,2,3,4]) #RIGHT"
   ]
  },
  {
   "cell_type": "markdown",
   "id": "ddaac6ec",
   "metadata": {},
   "source": [
    "array mengubah barisan dari sebuah barisan menjadi array dua dimensi, barisan dari barisan sebuah barisan menjadi array tiga dimensi, dan seterusnya."
   ]
  },
  {
   "cell_type": "code",
   "execution_count": 21,
   "id": "85c20d5f",
   "metadata": {},
   "outputs": [
    {
     "data": {
      "text/plain": [
       "array([[1.5, 2. , 3. ],\n",
       "       [4. , 5. , 6. ]])"
      ]
     },
     "execution_count": 21,
     "metadata": {},
     "output_type": "execute_result"
    }
   ],
   "source": [
    "b=np.array([(1.5,2,3),(4,5,6)])\n",
    "b"
   ]
  },
  {
   "cell_type": "markdown",
   "id": "932eb19c",
   "metadata": {},
   "source": [
    "Jenis array juga dapat secara eksplisit ditentukan pada saat pembuatan:"
   ]
  },
  {
   "cell_type": "code",
   "execution_count": 22,
   "id": "e32b4dcb",
   "metadata": {},
   "outputs": [
    {
     "data": {
      "text/plain": [
       "array([[1.+0.j, 2.+0.j],\n",
       "       [3.+0.j, 4.+0.j]])"
      ]
     },
     "execution_count": 22,
     "metadata": {},
     "output_type": "execute_result"
    }
   ],
   "source": [
    "c = np. array ( [ [1 ,2] , [3 ,4] ] , dtype = complex )\n",
    "c"
   ]
  },
  {
   "cell_type": "markdown",
   "id": "feb176e8",
   "metadata": {},
   "source": [
    "Seringkali, elemen dari sebuah array pada awalnya tidak diketahui, \n",
    "namun ukurannya diketahui. Oleh karena itu, NumPy menawarkan \n",
    "beberapa fungsi untuk membuat array yang memuat nilai awal. Hal \n",
    "tersebut dapat meminimalkan pertumbuhan memori yang diperlukan \n",
    "array , sebagai operasi yang dianggap mahal.\n",
    "Fungsi zeros menciptakan sebuah array yang berisi angka nol, fungsi \n",
    "ones yang menciptakan array yang berisi angka satu, dan fungsi empty \n",
    "men ciptakan array yang isinya acak dan bergantung pada keadaan \n",
    "memori. Secara default, dtype dari array yang dibuat adalah float64.\n"
   ]
  },
  {
   "cell_type": "code",
   "execution_count": 23,
   "id": "9a183e46",
   "metadata": {},
   "outputs": [
    {
     "data": {
      "text/plain": [
       "array([[0., 0., 0., 0.],\n",
       "       [0., 0., 0., 0.],\n",
       "       [0., 0., 0., 0.]])"
      ]
     },
     "execution_count": 23,
     "metadata": {},
     "output_type": "execute_result"
    }
   ],
   "source": [
    "np. zeros ( (3 ,4) )"
   ]
  },
  {
   "cell_type": "code",
   "execution_count": 24,
   "id": "14b80f4e",
   "metadata": {},
   "outputs": [
    {
     "data": {
      "text/plain": [
       "array([[[1, 1, 1, 1],\n",
       "        [1, 1, 1, 1],\n",
       "        [1, 1, 1, 1]],\n",
       "\n",
       "       [[1, 1, 1, 1],\n",
       "        [1, 1, 1, 1],\n",
       "        [1, 1, 1, 1]]], dtype=int16)"
      ]
     },
     "execution_count": 24,
     "metadata": {},
     "output_type": "execute_result"
    }
   ],
   "source": [
    "np. ones ( (2 ,3 ,4) , dtype =np. int16 ) # dtype can also be specified"
   ]
  },
  {
   "cell_type": "code",
   "execution_count": 25,
   "id": "023f02fd",
   "metadata": {},
   "outputs": [
    {
     "data": {
      "text/plain": [
       "array([[1.5, 2. , 3. ],\n",
       "       [4. , 5. , 6. ]])"
      ]
     },
     "execution_count": 25,
     "metadata": {},
     "output_type": "execute_result"
    }
   ],
   "source": [
    "np. empty ( (2 ,3) ) # uninitialized , output may vary"
   ]
  },
  {
   "cell_type": "markdown",
   "id": "d9efc80c",
   "metadata": {},
   "source": [
    "Untuk membuat barisan angka, NumPy menyediakan fungsi yang mirip dengan range yang outputnya berupa array dan bukan berupa list ."
   ]
  },
  {
   "cell_type": "code",
   "execution_count": 26,
   "id": "7fa5deb3",
   "metadata": {},
   "outputs": [
    {
     "data": {
      "text/plain": [
       "array([10, 15, 20, 25])"
      ]
     },
     "execution_count": 26,
     "metadata": {},
     "output_type": "execute_result"
    }
   ],
   "source": [
    "np.arange(10,30,5)"
   ]
  },
  {
   "cell_type": "code",
   "execution_count": 27,
   "id": "94d32877",
   "metadata": {},
   "outputs": [
    {
     "data": {
      "text/plain": [
       "array([0. , 0.3, 0.6, 0.9, 1.2, 1.5, 1.8])"
      ]
     },
     "execution_count": 27,
     "metadata": {},
     "output_type": "execute_result"
    }
   ],
   "source": [
    "np.arange(0,2,0.3) #it accepts float arguments"
   ]
  },
  {
   "cell_type": "markdown",
   "id": "1354a181",
   "metadata": {},
   "source": [
    "ika arange digunakan dengan argumen floating point, biasanya sulit memprediksi jumlah elemen yang diperoleh, karena presisi floating point yang terbatas. Untuk itu, lebih baik menggunakan fungsi linspace yang dapat menerima masukan berapa jumlah elemen yang kita inginkan:"
   ]
  },
  {
   "cell_type": "code",
   "execution_count": 28,
   "id": "d943e6f1",
   "metadata": {},
   "outputs": [
    {
     "data": {
      "text/plain": [
       "array([0.2       , 0.37959184, 0.55918367, 0.73877551, 0.91836735,\n",
       "       1.09795918, 1.27755102, 1.45714286, 1.63673469, 1.81632653,\n",
       "       1.99591837, 2.1755102 , 2.35510204, 2.53469388, 2.71428571,\n",
       "       2.89387755, 3.07346939, 3.25306122, 3.43265306, 3.6122449 ,\n",
       "       3.79183673, 3.97142857, 4.15102041, 4.33061224, 4.51020408,\n",
       "       4.68979592, 4.86938776, 5.04897959, 5.22857143, 5.40816327,\n",
       "       5.5877551 , 5.76734694, 5.94693878, 6.12653061, 6.30612245,\n",
       "       6.48571429, 6.66530612, 6.84489796, 7.0244898 , 7.20408163,\n",
       "       7.38367347, 7.56326531, 7.74285714, 7.92244898, 8.10204082,\n",
       "       8.28163265, 8.46122449, 8.64081633, 8.82040816, 9.        ])"
      ]
     },
     "execution_count": 28,
     "metadata": {},
     "output_type": "execute_result"
    }
   ],
   "source": [
    "from numpy import pi\n",
    "np.linspace(0.2,9) #9 numbers from 0 to 2"
   ]
  },
  {
   "cell_type": "code",
   "execution_count": 29,
   "id": "2f8c17fc",
   "metadata": {},
   "outputs": [],
   "source": [
    "x=np.linspace(0,2*pi,100) #useful to evaluate function at lots of points"
   ]
  },
  {
   "cell_type": "code",
   "execution_count": 30,
   "id": "54f004f8",
   "metadata": {},
   "outputs": [],
   "source": [
    "f=np.sin(x)"
   ]
  },
  {
   "cell_type": "markdown",
   "id": "41ddd104",
   "metadata": {},
   "source": [
    "#### 5.3 Menampilkan Array\n",
    "Saat kita menampilkan array , NumPy menampilkannya dengan cara yang mirip dengan daftar bersarang, namun dengan tata letak berikut: • axis terakhir dicetak dari kiri ke kanan, • yang kedua sampai yang terakhir dicetak dari atas ke bawah, • Sisanya juga dicetak dari atas ke bawah, dengan masing\u0002masing potongan dipisahkan oleh sebuah baris kosong. array satu dimensi dicetak sebagai baris, array dua dimensi sebagai matriks dan tridimensionals sebagai daftar matriks."
   ]
  },
  {
   "cell_type": "code",
   "execution_count": 31,
   "id": "67bdc771",
   "metadata": {},
   "outputs": [
    {
     "name": "stdout",
     "output_type": "stream",
     "text": [
      "[0 1 2 3 4 5]\n"
     ]
    }
   ],
   "source": [
    "a = np.arange(6) #1d array\n",
    "print(a)"
   ]
  },
  {
   "cell_type": "code",
   "execution_count": 32,
   "id": "29b85be2",
   "metadata": {},
   "outputs": [
    {
     "name": "stdout",
     "output_type": "stream",
     "text": [
      "[[ 0  1  2]\n",
      " [ 3  4  5]\n",
      " [ 6  7  8]\n",
      " [ 9 10 11]]\n"
     ]
    }
   ],
   "source": [
    "b = np.arange(12).reshape(4,3) # 2d array\n",
    "print(b)"
   ]
  },
  {
   "cell_type": "markdown",
   "id": "c81a176b",
   "metadata": {},
   "source": [
    "Jika a rray terlalu besar untuk ditampilkan, NumPy secara otomatis memotong bagian tengah array dan hanya mencetak ujung-ujungnya:"
   ]
  },
  {
   "cell_type": "code",
   "execution_count": 33,
   "id": "1f00d566",
   "metadata": {},
   "outputs": [
    {
     "name": "stdout",
     "output_type": "stream",
     "text": [
      "[   0    1    2 ... 9997 9998 9999]\n"
     ]
    }
   ],
   "source": [
    "print(np.arange(10000))"
   ]
  },
  {
   "cell_type": "code",
   "execution_count": 34,
   "id": "6ab7c1a8",
   "metadata": {},
   "outputs": [
    {
     "name": "stdout",
     "output_type": "stream",
     "text": [
      "[[   0    1    2 ...   97   98   99]\n",
      " [ 100  101  102 ...  197  198  199]\n",
      " [ 200  201  202 ...  297  298  299]\n",
      " ...\n",
      " [9700 9701 9702 ... 9797 9798 9799]\n",
      " [9800 9801 9802 ... 9897 9898 9899]\n",
      " [9900 9901 9902 ... 9997 9998 9999]]\n"
     ]
    }
   ],
   "source": [
    "print(np.arange(10000).reshape(100,100))"
   ]
  },
  {
   "cell_type": "markdown",
   "id": "09bc4162",
   "metadata": {},
   "source": [
    "Untuk memaksa NumPy mencetak seluruh bagian array , kita dapat mengubah opsi print menggunakan set_printoptions ."
   ]
  },
  {
   "cell_type": "markdown",
   "id": "2b6f9481",
   "metadata": {},
   "source": [
    "np.set_printoptions(threshold=’nan’)"
   ]
  },
  {
   "cell_type": "code",
   "execution_count": null,
   "id": "247a44cd",
   "metadata": {},
   "outputs": [],
   "source": []
  }
 ],
 "metadata": {
  "kernelspec": {
   "display_name": "Python 3 (ipykernel)",
   "language": "python",
   "name": "python3"
  },
  "language_info": {
   "codemirror_mode": {
    "name": "ipython",
    "version": 3
   },
   "file_extension": ".py",
   "mimetype": "text/x-python",
   "name": "python",
   "nbconvert_exporter": "python",
   "pygments_lexer": "ipython3",
   "version": "3.9.7"
  },
  "widgets": {
   "application/vnd.jupyter.widget-state+json": {
    "state": {},
    "version_major": 2,
    "version_minor": 0
   }
  }
 },
 "nbformat": 4,
 "nbformat_minor": 5
}
